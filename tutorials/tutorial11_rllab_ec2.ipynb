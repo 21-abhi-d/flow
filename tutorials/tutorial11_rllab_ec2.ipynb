{
 "cells": [
  {
   "cell_type": "markdown",
   "metadata": {},
   "source": [
    "# Exercise 11: Running rllab experiments on EC2\n",
    "\n",
    "This tutorial, a complement to tutorial 10, covers the process of running rllab experients on an Amazon EC2 instance. This tutorial assumes rllab has been installed correctly ([instructions](https://rllab.readthedocs.io/en/latest/user/installation.html)). "
   ]
  },
  {
   "cell_type": "markdown",
   "metadata": {},
   "source": [
    "First, follow the [rllab cluster setup instructions](https://rllab.readthedocs.io/en/latest/user/cluster.html) with region `us-west-1`. Modify `rllab/config_personal.py` to reference the most currently Flow Docker image (at the time of this writing, `evinitsky/flow`). \n",
    "\n",
    "Navigate to your `flow-devel` directory and modify `Makefile.template` per the instructions in that file. \n",
    "\n",
    "- The variable `RLLABDIR` should be the relative path from your `flow-devel` directory to \n",
    "- "
   ]
  },
  {
   "cell_type": "code",
   "execution_count": null,
   "metadata": {
    "collapsed": true
   },
   "outputs": [],
   "source": []
  },
  {
   "cell_type": "markdown",
   "metadata": {},
   "source": [
    "# Setting up AWS\n",
    "\n",
    "\n",
    "  - Pull `openai/rllab-distributed` repository and switch to production `sharedPolicyUpdate_release` branch\n",
    "  ```bash\n",
    "  git clone https://github.com/openai/rllab-distributed.git\n",
    "  cd rllab-distributed\n",
    "  git checkout sharedPolicyUpdate_release\n",
    "  ```\n",
    "  - Follow [rllab local setup instructions](https://rllab.readthedocs.io/en/latest/user/installation.html)\n",
    "  - Follow [rllab cluster setup instructions](http://rllab.readthedocs.io/en/latest/user/cluster.html)\n",
    "    - If prompted, region = us-west-1\n",
    "    - Note: the current Docker image path is \"evinitsky/flow-distributed\". Your `rllab-distributed/rllab/config_personal.py` should reflect that.\n",
    "    - (Optional): As desired, add to `config_personal.py` files and \n",
    "    directories that you do not need uploaded to EC2 for every \n",
    "    experiment by modifying `FAST_CODE_SYNC_IGNORES`.\n",
    "  - Go to `Makefile.template` in `learning-traffic/flow_dev` and update\n",
    "  the path to your rllab root directory (no trailing slash)\n",
    "    - The `flow_dev` reference in the Makefile might need to be updated to `flow`\n",
    "  - (See note below); Run `make prepare` \n",
    "  - Try an example! Run any experiment from `flow_dev/examples`, change\n",
    "   mode to “ec2”\n",
    "  - You can run it locally by changing the mode to local_docker. If this isn't working, make sure to check that your local docker image is the most current image. \n",
    "  - Log into AWS via: https://cathywu.signin.aws.amazon.com/console\n",
    "  - If you don’t see the instance you just launched (give it a few \n",
    "  minutes) running on AWS, then make sure your region is correct (go to\n",
    "   top right and change to `US West (N. California)` \n",
    "\n",
    "## Notes\n",
    "\n",
    "- When we run experiments on AWS, we create a new instance for each\n",
    "seed and use the Docker image I created as the VM. Built into the rllab \n",
    "script for running experiments in EC2 mode, we upload the rllab root \n",
    "directory to AWS. This way, the AWS instance has access to all files it\n",
    " might need to successfully run the experiment. Editing that code is\n",
    "  pretty complicated, so Cathy and I have decided on the following \n",
    "  workflow:\n",
    "  - All code modification will happen in the learning-traffic directory\n",
    "  - Before each experiment, run the command `make prepare` , which will\n",
    "   remove the flow_dev directory in rllab root and copy\n",
    "   `learning-traffic/flow_dev-dev/flow_dev` into your rllab root directory\n",
    "    - This means if you make modifications to flow_dev in the rllab\n",
    "    directory, they may be lost\n",
    "  - Before each experiment, always make sure you have a commit to that \n",
    "  exact snapshot of the `flow_dev` directory. This is because you may\n",
    "   modify flow_dev later. When you want to run `visualizer.py` , which is\n",
    "    our modified version of `sim_policy.py` , AKA when you want to \n",
    "    create rollout plots, you need the files in `rllab/flow_dev` to match\n",
    "    the files that were there when you originally ran the experiment.\n",
    "     So when you want to create rollout plots, you will checkout the\n",
    "      commit that matches when you ran the experiment and run make \n",
    "      prepare, then you can create rollout plots in the rllab directory.\n",
    "  - Ping me if there are issues!\n",
    "- I recommend cleaning up your rllab directory, especially if you \n",
    "notice you’re uploading a large size to AWS (it will tell you how many\n",
    " MB you are uploading, should be < 5 MB). The command `make clean` \n",
    " removes the debug directory (since so far we hardcoded that our SUMO\n",
    "  files go into that directory, this should be changed in the future) \n",
    "  and also all XML files in rllab root directory.\n"
   ]
  },
  {
   "cell_type": "code",
   "execution_count": null,
   "metadata": {
    "collapsed": true
   },
   "outputs": [],
   "source": []
  }
 ],
 "metadata": {
  "kernelspec": {
   "display_name": "Python 3",
   "language": "python",
   "name": "python3"
  },
  "language_info": {
   "codemirror_mode": {
    "name": "ipython",
    "version": 3
   },
   "file_extension": ".py",
   "mimetype": "text/x-python",
   "name": "python",
   "nbconvert_exporter": "python",
   "pygments_lexer": "ipython3",
   "version": "3.5.2"
  }
 },
 "nbformat": 4,
 "nbformat_minor": 2
}
