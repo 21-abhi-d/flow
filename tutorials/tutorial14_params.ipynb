{
 "cells": [
  {
   "cell_type": "markdown",
   "metadata": {},
   "source": [
    "# Tutorial 14: Params Classes\n",
    "\n",
    "This tutorial walks you through the use of different parameters classes. Understanding how these classes work is fundamental in designing your own experiments in Flow. \n",
    "\n",
    "The classes featured in this tutorial are `InitialConfig`,`SumoCarFollowingParams`, `SumoParams` and `EnvParams`. Each of these classes is detailed in their corresponding sections in this tutorial.\n",
    "\n",
    "This tutorial uses the classical Sugiyama experiment involving a loop (ring road) with a single lane and a fixed number of vehicles on it, similar to what is done in tutorial 1. This one though focuses on the use of the parameters in the classes.\n",
    "\n",
    "**This tutorial is divided into 4 sections and is organized as follows:**\n",
    "\n",
    "1. `InitialConfig`\n",
    "2. `SumoCarFollowingParams`\n",
    "3. `SumoParams`\n",
    "4. `EnvParams`\n",
    "\n",
    "## 1. InitialConfig\n",
    "\n",
    "`InitialConfig` specifies parameters that affect the positioning of vehicles in the network at the start of a rollout. These parameters can be used for instance to limit the edges and number of lanes vehicles initially occupy, or to provide a means of adding randomness to the starting positions of vehicles. By default, the vehicles are uniformly distributed in the network, across all edges and lanes.\n",
    "\n",
    "\"the vehicles\" means the vehicles that are initially present in the network when the simulation starts, i.e. not the vehicles added during the simulation via inflows but those added via `vehicles.add(num_vehicles=...)`.\n",
    "\n",
    "### 1.1 List of possible parameters\n",
    "\n",
    "Following are the parameters which can be set up within `InitialConfig`, along with their default values and description:\n",
    "\n",
    "\n",
    "- `shuffle` (_bool, optional_): specifies whether the ordering of the vehicles should be shuffled. Default to False.\n",
    "- `spacing` (_str, optional_): specifies the initial positioning of the vehicles. Can be either one of: \n",
    "    - \"uniform\" (default value): the vehicles will be placed uniformly\n",
    "    - \"random\": the vehicles will be placed randomly\n",
    "    - \"custom\": you must specify a custom ordering\n",
    "- `min_gap` (_float, optional_): the minimum gap to be kept between two vehicles among all the vehicles, in meters. Defaults to 0 meters. \n",
    "- `x0` (_float, optional_): position of the first vehicle to be placed in the network. Can be used to shift the position of all the vehicles. The position is an edge position (c.f. the `specify_edge_starts` method in the scenario). Defaults to 0.\n",
    "- `perturbation` (_float, optional_): standard deviation used to perturb the vehicles from their uniform position, in meters (this is only used in case `spacing` is set to \"uniform\"). Defaults to 0 meters.\n",
    "- `bunching` (_float, optional_): reduce the portion of the network that should be filled with vehicles by this amount, in edge length. Defaults to 0. \n",
    "- `lanes_distribution` (_int, optional_): number of lanes the vehicles should be dispersed into. If the value is greater than the total number of lanes on an edge, vehicles are spread across all lanes. Defaults to infinity.\n",
    "- `edges_distribution` (_str / str list / (str -> int) dict, optional_): edges vehicles may be placed on. Can be either one of:\n",
    "    - \"all\": vehicles are distributed over all edges (default)\n",
    "    - list of edges vehicles can be distributed over\n",
    "    - dict where for each item, the key is the name of the edge and the value is the number of cars to place on that edge.\n",
    "- `additional_params` (_dict, optional_): some other network-specific parameters.\n",
    "\n",
    "### 1.2 Example using the Sugiyama experiment\n",
    "\n",
    "The following lines of codes create a basic experiment in a ring, with 22 vehicles which initial position we can play with using `InitialConfig`. If you don't understand the following code, head over tutorial 1 which explains it.\n",
    "\n",
    "Let's start with creating the vehicles that will be affected by the initial configuration, as well as the configuration itself:"
   ]
  },
  {
   "cell_type": "code",
   "execution_count": 5,
   "metadata": {},
   "outputs": [],
   "source": [
    "from flow.core.params import VehicleParams, InitialConfig\n",
    "from flow.controllers import IDMController, ContinuousRouter\n",
    "\n",
    "# we add 22 vehicles that will be affected by the InitialConfig object\n",
    "vehicles = VehicleParams()\n",
    "vehicles.add(\"human\",\n",
    "        acceleration_controller=(IDMController, {}),\n",
    "        routing_controller=(ContinuousRouter, {}),\n",
    "        num_vehicles=22)\n",
    "\n",
    "# set up initial config \n",
    "initial_config = InitialConfig(\n",
    "    spacing=\"uniform\",\n",
    "    bunching=20\n",
    ")"
   ]
  },
  {
   "cell_type": "markdown",
   "metadata": {},
   "source": [
    "Then, let's write the rest of the code necessary for the simulation, and run it."
   ]
  },
  {
   "cell_type": "code",
   "execution_count": null,
   "metadata": {},
   "outputs": [],
   "source": [
    "from flow.core.experiment import Experiment\n",
    "from flow.core.params import SumoParams, EnvParams, NetParams\n",
    "from flow.envs.loop.loop_accel import AccelEnv, ADDITIONAL_ENV_PARAMS\n",
    "from flow.scenarios.loop import LoopScenario, ADDITIONAL_NET_PARAMS\n",
    "\n",
    "# finish creating the experiment and run it\n",
    "scenario = LoopScenario(\n",
    "    name=\"sugiyama\", \n",
    "    vehicles=vehicles, \n",
    "    net_params=NetParams(additional_params=ADDITIONAL_NET_PARAMS), \n",
    "    initial_config=initial_config)\n",
    "\n",
    "env = AccelEnv(\n",
    "    env_params=EnvParams(additional_params=ADDITIONAL_ENV_PARAMS), \n",
    "    sumo_params=SumoParams(render=True), \n",
    "    scenario=scenario\n",
    ")\n",
    "\n",
    "exp = Experiment(env)\n",
    "exp.run(1, 1500)"
   ]
  },
  {
   "cell_type": "markdown",
   "metadata": {},
   "source": [
    "TODO these actually don't work..."
   ]
  },
  {
   "cell_type": "markdown",
   "metadata": {},
   "source": [
    "Feel free to play around with the parameters set in `InitialConfig`. For example, you can try with the followings:"
   ]
  },
  {
   "cell_type": "code",
   "execution_count": 11,
   "metadata": {},
   "outputs": [],
   "source": [
    "initial_config = InitialConfig(\n",
    "    spacing=\"uniform\",\n",
    "    perturbation=5\n",
    ")"
   ]
  },
  {
   "cell_type": "markdown",
   "metadata": {},
   "source": [
    "or, for instance,"
   ]
  },
  {
   "cell_type": "code",
   "execution_count": 9,
   "metadata": {},
   "outputs": [],
   "source": [
    "initial_config = InitialConfig(\n",
    "    spacing=\"random\"\n",
    ")"
   ]
  },
  {
   "cell_type": "markdown",
   "metadata": {},
   "source": [
    "## 2. SumoCarFollowingParams\n",
    "\n",
    "This section focuses on the discussion of parameters for SUMO-controlled acceleration behavior.\n",
    "   \n",
    "Following is the class declaration and the corresponding default values for the parameters:\n",
    "\n",
    "   def __init__(\n",
    "            self,\n",
    "            speed_mode='right_of_way',\n",
    "            accel=1.0,\n",
    "            decel=1.5,\n",
    "            sigma=0.5,\n",
    "            tau=1.0,  # past 1 at sim_step=0.1 you no longer see waves\n",
    "            min_gap=2.5,\n",
    "            max_speed=30,\n",
    "            speed_factor=1.0,\n",
    "            speed_dev=0.1,\n",
    "            impatience=0.5,\n",
    "            car_follow_model=\"IDM\",\n",
    "            **kwargs):\n",
    "\n",
    "\n",
    "### 2.1 List of possible parameters\n",
    "\n",
    "The parameters within this class are:\n",
    "\n",
    "* speed_mode = speed mode\n",
    "* accel = acceleration (in m/s/s)\n",
    "* decel = deceleration (in m/s/s)\n",
    "* sigma = car-following parameter (visit the link below for details)\n",
    "* tau = car-following parameter (visit the link below for details)\n",
    "* min_gap = empty space after leader/spacing between vehicles (in meters)\n",
    "* max_speed = vehicle's maximum velocity  (in m/s)\n",
    "* speed_factor = the vehicles expected multiplicator for lane speed limits (visit the link below for details)\n",
    "* speed_dev = the deviation of the speedFactor\n",
    "* impatience = willingess of drivers to impede vehicles with higher priority (visit the link below for details)\n",
    "* car_following_model = the car-following model to be used by the vehicles\n",
    "\n",
    "More details available at: \n",
    "http://sumo.dlr.de/wiki/TraCI/Change_Vehicle_State#speed_mode_.280xb3.29\n",
    "\n",
    "### 2.2 Example using the Sugiyama experiment\n",
    "\n",
    "We again run the Sugiyama experiment, but now with focus on this class.\n",
    "\n",
    "This part reinitializes the Sugiyama experiment. \n",
    "\n",
    "Similar to the first section of this tutorial, the following lines of codes call the necessary functions defined in Flow. This also adds vehicles, sets up the environment, and declares network parameters."
   ]
  },
  {
   "cell_type": "code",
   "execution_count": null,
   "metadata": {},
   "outputs": [],
   "source": [
    "from flow.controllers import IDMController, ContinuousRouter\n",
    "from flow.core.experiment import Experiment\n",
    "from flow.core.params import SumoParams, EnvParams, \\\n",
    "    SumoCarFollowingParams, NetParams, VehicleParams\n",
    "from flow.envs.loop.loop_accel import AccelEnv, ADDITIONAL_ENV_PARAMS\n",
    "from flow.scenarios.loop import LoopScenario, ADDITIONAL_NET_PARAMS\n",
    "\n",
    "name = \"sugiyama_example\"\n",
    "sim_params = SumoParams(sim_step=0.1, render=True)\n",
    "\n",
    "env_params = EnvParams(additional_params=ADDITIONAL_ENV_PARAMS)\n",
    "\n",
    "additional_net_params = ADDITIONAL_NET_PARAMS.copy()\n",
    "net_params = NetParams(additional_params=additional_net_params)\n",
    "#initial_config = InitialConfig(bunching=20)"
   ]
  },
  {
   "cell_type": "markdown",
   "metadata": {},
   "source": [
    "The SUMO Car Following Parameters class can be used within the declaration/addition of the vehicles to follow \n",
    "\n",
    "Look for `car_following_params=SumoCarFollowingParams (speed_mode=\"no_collide\")` in the code below and that's where you can modify this within `SumoCarFollowingParams()` to make it work the way you like it. \n",
    "\n",
    "Run the following code to see for yourself that it is running until the cell where you should be able to run the simulation in the SUMO GUI."
   ]
  },
  {
   "cell_type": "code",
   "execution_count": null,
   "metadata": {},
   "outputs": [],
   "source": [
    "vehicles = VehicleParams()\n",
    "\n",
    "vehicles.add(\"human\",\n",
    "        acceleration_controller=(IDMController, {}),\n",
    "        routing_controller=(ContinuousRouter, {}),\n",
    "        car_following_params=SumoCarFollowingParams\n",
    "            (speed_mode=\"no_collide\"),\n",
    "        num_vehicles=22)"
   ]
  },
  {
   "cell_type": "markdown",
   "metadata": {},
   "source": [
    "The cell below, when ran, completes the scenario and should be able to render the simulation in the SUMO GUI."
   ]
  },
  {
   "cell_type": "code",
   "execution_count": null,
   "metadata": {},
   "outputs": [],
   "source": [
    "# create the scenario object\n",
    "scenario = LoopScenario(\n",
    "    name=\"sugiyama\",\n",
    "    vehicles=vehicles,\n",
    "    net_params=net_params)\n",
    "\n",
    "# create the environment object\n",
    "env = AccelEnv(env_params, sim_params, scenario)\n",
    "\n",
    "exp = Experiment(env)\n",
    "\n",
    "# run for a set number of rollouts / time steps\n",
    "exp.run(1, 1500)"
   ]
  },
  {
   "cell_type": "markdown",
   "metadata": {},
   "source": [
    "Observe the differences as you change or add the parameters declared within `SumoCarFollowingParams` in cell `In [5]`.\n",
    "\n",
    "For example, instead of using `car_following_params=SumoCarFollowingParams(speed_mode=\"no_collide\")`\n",
    "     \n",
    "try changing it to \n",
    "     \n",
    "     `car_following_params=SumoCarFollowingParams(\n",
    "            minGap=0.01,\n",
    "            tau=0.5,\n",
    "            speed_mode=\"aggressive\"\n",
    "            )`\n",
    "\n",
    "Many things can be done within this class to conform to your needs, adjust this based on your preference/needs."
   ]
  },
  {
   "cell_type": "markdown",
   "metadata": {},
   "source": [
    "## 3. SumoParams\n",
    "\n",
    "This is an extension of the class `SimParams` where it allows the users to have SUMO-specific simulation parameters.\n",
    "\n",
    "These parameters are used to customize a SUMO simulation instance upon initialization. This includes passing the simulation step length, specifying whether to use SUMO's gui during a run, and other features described in the parameters below with their corresponding default values.\n",
    "    \n",
    "    def __init__(self,\n",
    "                 port=None,\n",
    "                 sim_step=0.1,\n",
    "                 emission_path=None,\n",
    "                 lateral_resolution=None,\n",
    "                 no_step_log=True,\n",
    "                 render=False,\n",
    "                 save_render=False,\n",
    "                 sight_radius=25,\n",
    "                 show_radius=False,\n",
    "                 pxpm=2,\n",
    "                 overtake_right=False,\n",
    "                 seed=None,\n",
    "                 restart_instance=False,\n",
    "                 print_warnings=True,\n",
    "                 teleport_time=-1,\n",
    "                 num_clients=1,\n",
    "                 sumo_binary=None):\n",
    "\n",
    "Below are the meaning and possible modifications of the parameters defined within this class:\n",
    "\n",
    "       port: int, optional\n",
    "            Port for Traci to connect to; finds an empty port by default\n",
    "       sim_step: float optional\n",
    "            seconds per simulation step; 0.1 by default\n",
    "       emission_path: str, optional\n",
    "            Path to the folder in which to create the emissions output. Emissions output is not generated if this value is not specified\n",
    "        lateral_resolution: float, optional\n",
    "            width of the divided sublanes within a lane, defaults to None (i.e. no sublanes). If this value is specified, the vehicle in the network cannot use the \"LC2013\" lane change model.\n",
    "        no_step_log: bool, optional specifies whether to add sumo's step logs to the log file, and print them into the terminal during runtime, defaults to True\n",
    "        render: str or bool, optional\n",
    "            specifies whether to visualize the rollout(s)\n",
    "            False: no rendering\n",
    "            True: delegate rendering to SUMO-GUI for back-compatibility\n",
    "            \"gray\": static grayscale rendering, which is good for training\n",
    "            \"dgray\": dynamic grayscale rendering\n",
    "            \"rgb\": static RGB rendering\n",
    "            \"drgb\": dynamic RGB rendering, which is good for visualization\n",
    "        save_render: bool, optional\n",
    "            specifies whether to save rendering data to disk\n",
    "        sight_radius: int, optional\n",
    "            sets the radius of observation for RL vehicles (meter)\n",
    "        show_radius: bool, optional\n",
    "            specifies whether to render the radius of RL observation\n",
    "        pxpm: int, optional\n",
    "            specifies rendering resolution (pixel / meter)\n",
    "        overtake_right: bool, optional\n",
    "            whether vehicles are allowed to overtake on the right as well as the left\n",
    "        seed: int, optional\n",
    "            seed for sumo instance\n",
    "        restart_instance: bool, optional\n",
    "            specifies whether to restart a sumo instance upon reset. Restarting the instance helps avoid slowdowns cause by excessive inflows over large experiment runtimes, but also require the gui to be started after every reset if \"render\" is set to True.\n",
    "        print_warnings: bool, optional\n",
    "            If set to false, this will silence sumo warnings on the stdout\n",
    "        teleport_time: int, optional\n",
    "            If negative, vehicles don't teleport in gridlock. If positive,\n",
    "            they teleport after teleport_time seconds\n",
    "        num_clients: int, optional\n",
    "            Number of clients that will connect to Traci\n"
   ]
  },
  {
   "cell_type": "markdown",
   "metadata": {},
   "source": [
    "### Similar to the two previous sections, we'll use the Sugiyama experiment as an example."
   ]
  },
  {
   "cell_type": "code",
   "execution_count": null,
   "metadata": {},
   "outputs": [],
   "source": [
    "# This part initializes the Sugiyama experiment. \n",
    "\n",
    "from flow.controllers import IDMController, ContinuousRouter\n",
    "from flow.core.experiment import Experiment\n",
    "from flow.core.params import SumoParams, EnvParams, \\\n",
    "    InitialConfig, NetParams, VehicleParams\n",
    "from flow.envs.loop.loop_accel import AccelEnv, ADDITIONAL_ENV_PARAMS\n",
    "from flow.scenarios.loop import LoopScenario, ADDITIONAL_NET_PARAMS\n",
    "    \n",
    "name = \"sugiyama_example\"\n",
    "\n",
    "vehicles = VehicleParams()\n",
    "    \n",
    "vehicles.add(\"human\",\n",
    "        acceleration_controller=(IDMController, {}),\n",
    "        routing_controller=(ContinuousRouter, {}),\n",
    "        num_vehicles=22)\n",
    "    \n",
    "\n",
    "env_params = EnvParams(additional_params=ADDITIONAL_ENV_PARAMS)\n",
    "\n",
    "additional_net_params = ADDITIONAL_NET_PARAMS.copy()\n",
    "net_params = NetParams(additional_params=additional_net_params)\n",
    "initial_config = InitialConfig()\n"
   ]
  },
  {
   "cell_type": "markdown",
   "metadata": {},
   "source": [
    "This is the section where you should be able to modify the parameters within the `SumoParams` class."
   ]
  },
  {
   "cell_type": "code",
   "execution_count": null,
   "metadata": {},
   "outputs": [],
   "source": [
    "sim_params = SumoParams(sim_step=0.1, render=True)\n",
    "\n",
    "# sim_step = 0.1 sets the simulation time step to 0.1\n",
    "# render = True lets you see the simulation using the SUMO GUI"
   ]
  },
  {
   "cell_type": "markdown",
   "metadata": {},
   "source": [
    "The cell below, when ran, completes the scenario and should be able to render the simulation in the SUMO GUI."
   ]
  },
  {
   "cell_type": "code",
   "execution_count": null,
   "metadata": {},
   "outputs": [],
   "source": [
    "# create the scenario object\n",
    "scenario = LoopScenario(\n",
    "    name=\"sugiyama\",\n",
    "    vehicles=vehicles,\n",
    "    net_params=net_params)\n",
    "\n",
    "# create the environment object\n",
    "env = AccelEnv(env_params, sim_params, scenario)\n",
    "\n",
    "exp = Experiment(env)\n",
    "\n",
    "# run for a set number of rollouts / time steps\n",
    "exp.run(1, 1500)"
   ]
  },
  {
   "cell_type": "markdown",
   "metadata": {},
   "source": [
    "Observe the differences as you change or add the parameters declared within `SumoParams` in cell `In [8]`.\n",
    "\n",
    "For example, instead of using \n",
    "\n",
    "`sim_params = SumoParams(sim_step=0.1, render=True)`\n",
    "     \n",
    "try changing it to \n",
    "     \n",
    "     `sim_params = SumoParams(\n",
    "            sim_step=0.1,\n",
    "            render=True,\n",
    "            emission_path=\"./data/\"\n",
    "            )`\n",
    "\n",
    "There should now be emission files (CSV & XML files) created within the specified location (here, it should be at the `data` folder in Flow. The XML file is the ones that contains emission information based on the built-in SUMO emission model. If you did not add `emission_path=\"./data/`, no such files will be created.\n",
    "\n",
    "You can add more parameters and specify the attributes within `SumoParams` to further modify the simulation."
   ]
  },
  {
   "cell_type": "markdown",
   "metadata": {},
   "source": [
    "## 4. EnvParams\n",
    "\n",
    "This class enables you to specify the bounds of the action space and relevant coefficients to the reward function, as well as specifying how the positions of vehicles are modified in between rollouts.\n",
    "\n",
    "Below is the definition of the class with the parameters and their corresponding default values:\n",
    "\n",
    "    def __init__(self,\n",
    "                 additional_params=None,\n",
    "                 horizon=500,\n",
    "                 warmup_steps=0,\n",
    "                 sims_per_step=1,\n",
    "                 evaluate=False):\n",
    "                 \n",
    "        self.additional_params = \\\n",
    "            additional_params if additional_params is not None else {}\n",
    "        self.horizon = horizon\n",
    "        self.warmup_steps = warmup_steps\n",
    "        self.sims_per_step = sims_per_step\n",
    "        self.evaluate = evaluate\n",
    "\n",
    "        def get_additional_param(self, key):\n",
    "        \"\"\"Return a variable from additional_params.\"\"\"\n",
    "        return self.additional_params[key]\n",
    "\n",
    "\n",
    "The parameters are detailed below and ideas on how to modify each one when used in a simulation.\n",
    "\n",
    "            `additional_params`: dict, optional\n",
    "                Specify additional environment params for a specific environment configuration\n",
    "            `horizon`: int, optional\n",
    "            `warmup_steps`: number of steps per rollouts (int, optional); this is the number of steps performed before the initialization of training during a rollout. These warmup steps are not added as steps into training, and the actions of RL agents during these steps are dictated by SUMO. Defaults to zero\n",
    "           `sims_per_step`: int, optional number of SUMO simulation steps performed in any given rollout step. RL agents perform the same action for the duration of these simulation steps.\n",
    "            `evaluate`: bool, optional\n",
    "                flag indicating that the evaluation reward should be used so the evaluation reward should be used rather than the normal reward        "
   ]
  },
  {
   "cell_type": "markdown",
   "metadata": {},
   "source": [
    "### Same to that of the three (3) previous sections, we'll use the Sugiyama experiment as an example."
   ]
  },
  {
   "cell_type": "code",
   "execution_count": null,
   "metadata": {},
   "outputs": [],
   "source": [
    "# This part initializes the Sugiyama experiment. \n",
    "\n",
    "from flow.controllers import IDMController, ContinuousRouter\n",
    "from flow.core.experiment import Experiment\n",
    "from flow.core.params import SumoParams, EnvParams, \\\n",
    "    InitialConfig, NetParams, VehicleParams\n",
    "from flow.envs.loop.loop_accel import AccelEnv, ADDITIONAL_ENV_PARAMS\n",
    "from flow.scenarios.loop import LoopScenario, ADDITIONAL_NET_PARAMS\n",
    "\n",
    "name = \"sugiyama_example\"\n",
    "\n",
    "vehicles = VehicleParams()\n",
    "\n",
    "vehicles.add(\"human\",\n",
    "        acceleration_controller=(IDMController, {}),\n",
    "        routing_controller=(ContinuousRouter, {}),\n",
    "        num_vehicles=22)\n",
    "\n",
    "additional_net_params = ADDITIONAL_NET_PARAMS.copy()\n",
    "net_params = NetParams(additional_params=additional_net_params)\n",
    "initial_config = InitialConfig()\n",
    "\n",
    "sim_params = SumoParams(sim_step=0.1, render=True)"
   ]
  },
  {
   "cell_type": "markdown",
   "metadata": {},
   "source": [
    "### This is the section where you should be able to modify the parameters within the `EnvParams` class."
   ]
  },
  {
   "cell_type": "code",
   "execution_count": null,
   "metadata": {},
   "outputs": [],
   "source": [
    "env_params = EnvParams(additional_params=ADDITIONAL_ENV_PARAMS)"
   ]
  },
  {
   "cell_type": "markdown",
   "metadata": {},
   "source": [
    "### The cell below, when ran, completes the scenario and should be able to render the simulation in the SUMO GUI."
   ]
  },
  {
   "cell_type": "code",
   "execution_count": null,
   "metadata": {},
   "outputs": [],
   "source": [
    "# create the scenario object\n",
    "scenario = LoopScenario(\n",
    "    name=\"sugiyama\",\n",
    "    vehicles=vehicles,\n",
    "    net_params=net_params)\n",
    "\n",
    "# create the environment object\n",
    "env = AccelEnv(env_params, sim_params, scenario)\n",
    "\n",
    "exp = Experiment(env)\n",
    "\n",
    "# run for a set number of rollouts / time steps\n",
    "exp.run(1, 1500)"
   ]
  },
  {
   "cell_type": "markdown",
   "metadata": {},
   "source": [
    "### Observe the differences as you change or add the parameters declared within `EnvParams` in cell `In [11]`.\n",
    "\n",
    "For example, instead of using \n",
    "\n",
    "`env_params = EnvParams(additional_params=ADDITIONAL_ENV_PARAMS)`\n",
    "     \n",
    "try changing it to: \n",
    "     \n",
    "     `env_params = EnvParams(\n",
    "            warmup_steps=40,\n",
    "            sims_per_step=1,\n",
    "            horizon=HORIZON,\n",
    "            additional_params=additional_env_params,\n",
    "            )`\n",
    "\n",
    "\n",
    "You can add more parameters and specify the attributes within `EnvParams` to further modify the simulation."
   ]
  }
 ],
 "metadata": {
  "kernelspec": {
   "display_name": "Python 3",
   "language": "python",
   "name": "python3"
  },
  "language_info": {
   "codemirror_mode": {
    "name": "ipython",
    "version": 3
   },
   "file_extension": ".py",
   "mimetype": "text/x-python",
   "name": "python",
   "nbconvert_exporter": "python",
   "pygments_lexer": "ipython3",
   "version": "3.6.8"
  }
 },
 "nbformat": 4,
 "nbformat_minor": 2
}
