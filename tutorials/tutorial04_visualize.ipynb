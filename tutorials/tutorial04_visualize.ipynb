{
 "cells": [
  {
   "cell_type": "markdown",
   "metadata": {},
   "source": [
    "# Tutorial 04: Visualizing Experiment Results"
   ]
  },
  {
   "cell_type": "markdown",
   "metadata": {
    "collapsed": true
   },
   "source": [
    "This tutorial describes the process of visualizing and replaying the results of Flow experiments run using RL. The process of visualizing results breaks down into two main components:\n",
    "\n",
    "- reward plotting\n",
    "\n",
    "- policy replay\n",
    "\n",
    "Note that this tutorial only talks about visualization using sumo, and not other simulators like Aimsun. "
   ]
  },
  {
   "cell_type": "markdown",
   "metadata": {},
   "source": [
    "<hr>\n",
    "\n",
    "## Visualization with RLlib"
   ]
  },
  {
   "cell_type": "markdown",
   "metadata": {},
   "source": [
    "### Plotting Reward\n",
    "\n",
    "Similarly to how rllab handles reward plotting, RLlib supports reward visualization over the period of training using `tensorboard`. `tensorboard` takes one command-line input, `--logdir`, which is an rllib result directory (usually located within an experiment directory inside your `ray_results` directory). An example function call is below."
   ]
  },
  {
   "cell_type": "code",
   "execution_count": 7,
   "metadata": {},
   "outputs": [
    {
     "name": "stdout",
     "output_type": "stream",
     "text": [
      "TensorBoard 1.14.0 at http://nick-ThinkPad:6006/ (Press CTRL+C to quit)\n",
      "I1007 00:04:30.130889 140481751508736 _internal.py:122] ::ffff:127.0.0.1 - - [07/Oct/2019 00:04:30] \"\u001b[37mGET / HTTP/1.1\u001b[0m\" 200 -\n",
      "I1007 00:04:30.584944 140481635800832 _internal.py:122] ::ffff:127.0.0.1 - - [07/Oct/2019 00:04:30] \"\u001b[37mGET /font-roboto/oMMgfZMQthOryQo9n22dcuvvDin1pK8aKteLpeZ5c0A.woff2 HTTP/1.1\u001b[0m\" 200 -\n",
      "I1007 00:04:31.964401 140481619015424 _internal.py:122] ::ffff:127.0.0.1 - - [07/Oct/2019 00:04:31] \"\u001b[37mGET /data/runs HTTP/1.1\u001b[0m\" 200 -\n",
      "I1007 00:04:31.965485 140481635800832 _internal.py:122] ::ffff:127.0.0.1 - - [07/Oct/2019 00:04:31] \"\u001b[37mGET /data/environment HTTP/1.1\u001b[0m\" 200 -\n",
      "I1007 00:04:31.965806 140481400928000 _internal.py:122] ::ffff:127.0.0.1 - - [07/Oct/2019 00:04:31] \"\u001b[37mGET /data/experiments HTTP/1.1\u001b[0m\" 200 -\n",
      "I1007 00:04:31.968789 140481751508736 _internal.py:122] ::ffff:127.0.0.1 - - [07/Oct/2019 00:04:31] \"\u001b[37mGET /data/plugins_listing HTTP/1.1\u001b[0m\" 200 -\n",
      "I1007 00:04:32.242285 140481635800832 _internal.py:122] ::ffff:127.0.0.1 - - [07/Oct/2019 00:04:32] \"\u001b[37mGET /font-roboto/RxZJdnzeo3R5zSexge8UUZBw1xU1rKptJj_0jans920.woff2 HTTP/1.1\u001b[0m\" 200 -\n",
      "I1007 00:04:32.249623 140481619015424 _internal.py:122] ::ffff:127.0.0.1 - - [07/Oct/2019 00:04:32] \"\u001b[37mGET /font-roboto/d-6IYplOFocCacKzxwXSOJBw1xU1rKptJj_0jans920.woff2 HTTP/1.1\u001b[0m\" 200 -\n",
      "I1007 00:04:32.260326 140481384142592 _internal.py:122] ::ffff:127.0.0.1 - - [07/Oct/2019 00:04:32] \"\u001b[37mGET /data/environment HTTP/1.1\u001b[0m\" 200 -\n",
      "I1007 00:04:32.267159 140481627408128 _internal.py:122] ::ffff:127.0.0.1 - - [07/Oct/2019 00:04:32] \"\u001b[37mGET /data/runs HTTP/1.1\u001b[0m\" 200 -\n",
      "I1007 00:04:32.267469 140481400928000 _internal.py:122] ::ffff:127.0.0.1 - - [07/Oct/2019 00:04:32] \"\u001b[37mGET /data/plugins_listing HTTP/1.1\u001b[0m\" 200 -\n",
      "I1007 00:04:32.282024 140481635800832 _internal.py:122] ::ffff:127.0.0.1 - - [07/Oct/2019 00:04:32] \"\u001b[37mGET /data/experiments HTTP/1.1\u001b[0m\" 200 -\n",
      "I1007 00:04:32.282296 140481751508736 _internal.py:122] ::ffff:127.0.0.1 - - [07/Oct/2019 00:04:32] \"\u001b[37mGET /data/plugin/scalars/tags HTTP/1.1\u001b[0m\" 200 -\n",
      "I1007 00:04:32.552439 140481635800832 _internal.py:122] ::ffff:127.0.0.1 - - [07/Oct/2019 00:04:32] \"\u001b[37mGET /data/plugin/scalars/scalars?tag=ray%2Ftune%2Fepisode_len_mean&run=PPO_WaveAttenuationPOEnv-v0_0_2019-10-06_23-07-079nsv_a4k&experiment= HTTP/1.1\u001b[0m\" 200 -\n",
      "I1007 00:04:32.564268 140481384142592 _internal.py:122] ::ffff:127.0.0.1 - - [07/Oct/2019 00:04:32] \"\u001b[37mGET /data/plugin/scalars/scalars?tag=ray%2Ftune%2Fepisode_reward_max&run=PPO_WaveAttenuationPOEnv-v0_0_2019-10-06_23-07-079nsv_a4k&experiment= HTTP/1.1\u001b[0m\" 200 -\n",
      "I1007 00:04:32.566167 140481400928000 _internal.py:122] ::ffff:127.0.0.1 - - [07/Oct/2019 00:04:32] \"\u001b[37mGET /data/plugin/scalars/scalars?tag=ray%2Ftune%2Fepisode_len_mean&run=PPO_WaveAttenuationPOEnv-v0_0_2019-10-06_23-18-54klgp__ke&experiment= HTTP/1.1\u001b[0m\" 200 -\n",
      "I1007 00:04:32.566627 140481627408128 _internal.py:122] ::ffff:127.0.0.1 - - [07/Oct/2019 00:04:32] \"\u001b[37mGET /data/plugin/scalars/scalars?tag=ray%2Ftune%2Fepisode_reward_max&run=PPO_WaveAttenuationPOEnv-v0_0_2019-10-06_23-18-54klgp__ke&experiment= HTTP/1.1\u001b[0m\" 200 -\n",
      "I1007 00:04:32.567588 140481751508736 _internal.py:122] ::ffff:127.0.0.1 - - [07/Oct/2019 00:04:32] \"\u001b[37mGET /data/plugin/scalars/scalars?tag=ray%2Ftune%2Fepisode_len_mean&run=PPO_WaveAttenuationPOEnv-v0_0_2019-10-06_23-59-29h06wzir3&experiment= HTTP/1.1\u001b[0m\" 200 -\n",
      "I1007 00:04:32.568249 140481619015424 _internal.py:122] ::ffff:127.0.0.1 - - [07/Oct/2019 00:04:32] \"\u001b[37mGET /data/plugin/scalars/scalars?tag=ray%2Ftune%2Fepisode_reward_max&run=PPO_WaveAttenuationPOEnv-v0_0_2019-10-06_23-59-29h06wzir3&experiment= HTTP/1.1\u001b[0m\" 200 -\n",
      "I1007 00:04:32.578748 140481751508736 _internal.py:122] ::ffff:127.0.0.1 - - [07/Oct/2019 00:04:32] \"\u001b[37mGET /data/plugin/scalars/scalars?tag=ray%2Ftune%2Fepisode_reward_min&run=PPO_WaveAttenuationPOEnv-v0_0_2019-10-06_23-18-54klgp__ke&experiment= HTTP/1.1\u001b[0m\" 200 -\n",
      "I1007 00:04:32.579901 140481619015424 _internal.py:122] ::ffff:127.0.0.1 - - [07/Oct/2019 00:04:32] \"\u001b[37mGET /data/plugin/scalars/scalars?tag=ray%2Ftune%2Fepisode_reward_min&run=PPO_WaveAttenuationPOEnv-v0_0_2019-10-06_23-59-29h06wzir3&experiment= HTTP/1.1\u001b[0m\" 200 -\n",
      "I1007 00:04:32.580893 140481400928000 _internal.py:122] ::ffff:127.0.0.1 - - [07/Oct/2019 00:04:32] \"\u001b[37mGET /data/plugin/scalars/scalars?tag=ray%2Ftune%2Fepisode_reward_mean&run=PPO_WaveAttenuationPOEnv-v0_0_2019-10-06_23-59-29h06wzir3&experiment= HTTP/1.1\u001b[0m\" 200 -\n",
      "I1007 00:04:32.581144 140481627408128 _internal.py:122] ::ffff:127.0.0.1 - - [07/Oct/2019 00:04:32] \"\u001b[37mGET /data/plugin/scalars/scalars?tag=ray%2Ftune%2Fepisode_reward_min&run=PPO_WaveAttenuationPOEnv-v0_0_2019-10-06_23-07-079nsv_a4k&experiment= HTTP/1.1\u001b[0m\" 200 -\n",
      "I1007 00:04:32.581789 140481635800832 _internal.py:122] ::ffff:127.0.0.1 - - [07/Oct/2019 00:04:32] \"\u001b[37mGET /data/plugin/scalars/scalars?tag=ray%2Ftune%2Fepisode_reward_mean&run=PPO_WaveAttenuationPOEnv-v0_0_2019-10-06_23-07-079nsv_a4k&experiment= HTTP/1.1\u001b[0m\" 200 -\n",
      "I1007 00:04:32.582057 140481384142592 _internal.py:122] ::ffff:127.0.0.1 - - [07/Oct/2019 00:04:32] \"\u001b[37mGET /data/plugin/scalars/scalars?tag=ray%2Ftune%2Fepisode_reward_mean&run=PPO_WaveAttenuationPOEnv-v0_0_2019-10-06_23-18-54klgp__ke&experiment= HTTP/1.1\u001b[0m\" 200 -\n",
      "I1007 00:04:32.643887 140481619015424 _internal.py:122] ::ffff:127.0.0.1 - - [07/Oct/2019 00:04:32] \"\u001b[37mGET /data/plugin/scalars/scalars?tag=ray%2Ftune%2Fepisodes_this_iter&run=PPO_WaveAttenuationPOEnv-v0_0_2019-10-06_23-07-079nsv_a4k&experiment= HTTP/1.1\u001b[0m\" 200 -\n",
      "I1007 00:04:32.644447 140481627408128 _internal.py:122] ::ffff:127.0.0.1 - - [07/Oct/2019 00:04:32] \"\u001b[37mGET /data/plugin/scalars/scalars?tag=ray%2Ftune%2Fepisodes_this_iter&run=PPO_WaveAttenuationPOEnv-v0_0_2019-10-06_23-59-29h06wzir3&experiment= HTTP/1.1\u001b[0m\" 200 -\n",
      "I1007 00:04:32.645327 140481400928000 _internal.py:122] ::ffff:127.0.0.1 - - [07/Oct/2019 00:04:32] \"\u001b[37mGET /data/plugin/scalars/scalars?tag=ray%2Ftune%2Fepisodes_this_iter&run=PPO_WaveAttenuationPOEnv-v0_0_2019-10-06_23-18-54klgp__ke&experiment= HTTP/1.1\u001b[0m\" 200 -\n",
      "I1007 00:04:32.646538 140481635800832 _internal.py:122] ::ffff:127.0.0.1 - - [07/Oct/2019 00:04:32] \"\u001b[37mGET /data/plugin/scalars/scalars?tag=ray%2Ftune%2Fepisodes_total&run=PPO_WaveAttenuationPOEnv-v0_0_2019-10-06_23-18-54klgp__ke&experiment= HTTP/1.1\u001b[0m\" 200 -\n",
      "I1007 00:04:32.647200 140481751508736 _internal.py:122] ::ffff:127.0.0.1 - - [07/Oct/2019 00:04:32] \"\u001b[37mGET /data/plugin/scalars/scalars?tag=ray%2Ftune%2Fepisodes_total&run=PPO_WaveAttenuationPOEnv-v0_0_2019-10-06_23-07-079nsv_a4k&experiment= HTTP/1.1\u001b[0m\" 200 -\n",
      "I1007 00:04:32.647554 140481384142592 _internal.py:122] ::ffff:127.0.0.1 - - [07/Oct/2019 00:04:32] \"\u001b[37mGET /data/plugin/scalars/scalars?tag=ray%2Ftune%2Fepisodes_total&run=PPO_WaveAttenuationPOEnv-v0_0_2019-10-06_23-59-29h06wzir3&experiment= HTTP/1.1\u001b[0m\" 200 -\n",
      "I1007 00:04:32.689020 140481619015424 _internal.py:122] ::ffff:127.0.0.1 - - [07/Oct/2019 00:04:32] \"\u001b[37mGET /data/plugin/scalars/scalars?tag=ray%2Ftune%2Finfo%2Fgrad_time_ms&run=PPO_WaveAttenuationPOEnv-v0_0_2019-10-06_23-07-079nsv_a4k&experiment= HTTP/1.1\u001b[0m\" 200 -\n",
      "I1007 00:04:32.694160 140481627408128 _internal.py:122] ::ffff:127.0.0.1 - - [07/Oct/2019 00:04:32] \"\u001b[37mGET /data/plugin/scalars/scalars?tag=ray%2Ftune%2Finfo%2Fgrad_time_ms&run=PPO_WaveAttenuationPOEnv-v0_0_2019-10-06_23-18-54klgp__ke&experiment= HTTP/1.1\u001b[0m\" 200 -\n",
      "I1007 00:04:32.695340 140481400928000 _internal.py:122] ::ffff:127.0.0.1 - - [07/Oct/2019 00:04:32] \"\u001b[37mGET /data/plugin/scalars/scalars?tag=ray%2Ftune%2Finfo%2Fgrad_time_ms&run=PPO_WaveAttenuationPOEnv-v0_0_2019-10-06_23-59-29h06wzir3&experiment= HTTP/1.1\u001b[0m\" 200 -\n",
      "I1007 00:04:32.698768 140481384142592 _internal.py:122] ::ffff:127.0.0.1 - - [07/Oct/2019 00:04:32] \"\u001b[37mGET /data/plugin/scalars/scalars?tag=ray%2Ftune%2Finfo%2Flearner%2Fdefault_policy%2Fcur_kl_coeff&run=PPO_WaveAttenuationPOEnv-v0_0_2019-10-06_23-59-29h06wzir3&experiment= HTTP/1.1\u001b[0m\" 200 -\n",
      "I1007 00:04:32.699072 140481635800832 _internal.py:122] ::ffff:127.0.0.1 - - [07/Oct/2019 00:04:32] \"\u001b[37mGET /data/plugin/scalars/scalars?tag=ray%2Ftune%2Finfo%2Flearner%2Fdefault_policy%2Fcur_kl_coeff&run=PPO_WaveAttenuationPOEnv-v0_0_2019-10-06_23-07-079nsv_a4k&experiment= HTTP/1.1\u001b[0m\" 200 -\n",
      "I1007 00:04:32.699703 140481751508736 _internal.py:122] ::ffff:127.0.0.1 - - [07/Oct/2019 00:04:32] \"\u001b[37mGET /data/plugin/scalars/scalars?tag=ray%2Ftune%2Finfo%2Flearner%2Fdefault_policy%2Fcur_kl_coeff&run=PPO_WaveAttenuationPOEnv-v0_0_2019-10-06_23-18-54klgp__ke&experiment= HTTP/1.1\u001b[0m\" 200 -\n"
     ]
    },
    {
     "name": "stdout",
     "output_type": "stream",
     "text": [
      "I1007 00:04:32.731495 140481619015424 _internal.py:122] ::ffff:127.0.0.1 - - [07/Oct/2019 00:04:32] \"\u001b[37mGET /data/plugin/scalars/scalars?tag=ray%2Ftune%2Finfo%2Flearner%2Fdefault_policy%2Fcur_lr&run=PPO_WaveAttenuationPOEnv-v0_0_2019-10-06_23-07-079nsv_a4k&experiment= HTTP/1.1\u001b[0m\" 200 -\n",
      "I1007 00:04:32.739460 140481400928000 _internal.py:122] ::ffff:127.0.0.1 - - [07/Oct/2019 00:04:32] \"\u001b[37mGET /data/plugin/scalars/scalars?tag=ray%2Ftune%2Finfo%2Flearner%2Fdefault_policy%2Fcur_lr&run=PPO_WaveAttenuationPOEnv-v0_0_2019-10-06_23-18-54klgp__ke&experiment= HTTP/1.1\u001b[0m\" 200 -\n",
      "I1007 00:04:32.744487 140481635800832 _internal.py:122] ::ffff:127.0.0.1 - - [07/Oct/2019 00:04:32] \"\u001b[37mGET /data/plugin/scalars/scalars?tag=ray%2Ftune%2Finfo%2Flearner%2Fdefault_policy%2Fentropy&run=PPO_WaveAttenuationPOEnv-v0_0_2019-10-06_23-07-079nsv_a4k&experiment= HTTP/1.1\u001b[0m\" 200 -\n",
      "I1007 00:04:32.745448 140481627408128 _internal.py:122] ::ffff:127.0.0.1 - - [07/Oct/2019 00:04:32] \"\u001b[37mGET /data/plugin/scalars/scalars?tag=ray%2Ftune%2Finfo%2Flearner%2Fdefault_policy%2Fcur_lr&run=PPO_WaveAttenuationPOEnv-v0_0_2019-10-06_23-59-29h06wzir3&experiment= HTTP/1.1\u001b[0m\" 200 -\n",
      "I1007 00:04:32.755099 140481751508736 _internal.py:122] ::ffff:127.0.0.1 - - [07/Oct/2019 00:04:32] \"\u001b[37mGET /data/plugin/scalars/scalars?tag=ray%2Ftune%2Finfo%2Flearner%2Fdefault_policy%2Fentropy&run=PPO_WaveAttenuationPOEnv-v0_0_2019-10-06_23-18-54klgp__ke&experiment= HTTP/1.1\u001b[0m\" 200 -\n",
      "I1007 00:04:32.756163 140481384142592 _internal.py:122] ::ffff:127.0.0.1 - - [07/Oct/2019 00:04:32] \"\u001b[37mGET /data/plugin/scalars/scalars?tag=ray%2Ftune%2Finfo%2Flearner%2Fdefault_policy%2Fentropy&run=PPO_WaveAttenuationPOEnv-v0_0_2019-10-06_23-59-29h06wzir3&experiment= HTTP/1.1\u001b[0m\" 200 -\n",
      "I1007 00:04:32.780066 140481619015424 _internal.py:122] ::ffff:127.0.0.1 - - [07/Oct/2019 00:04:32] \"\u001b[37mGET /data/plugin/scalars/scalars?tag=ray%2Ftune%2Finfo%2Flearner%2Fdefault_policy%2Fentropy_coeff&run=PPO_WaveAttenuationPOEnv-v0_0_2019-10-06_23-07-079nsv_a4k&experiment= HTTP/1.1\u001b[0m\" 200 -\n",
      "I1007 00:04:32.789368 140481635800832 _internal.py:122] ::ffff:127.0.0.1 - - [07/Oct/2019 00:04:32] \"\u001b[37mGET /data/plugin/scalars/scalars?tag=ray%2Ftune%2Finfo%2Flearner%2Fdefault_policy%2Fentropy_coeff&run=PPO_WaveAttenuationPOEnv-v0_0_2019-10-06_23-59-29h06wzir3&experiment= HTTP/1.1\u001b[0m\" 200 -\n",
      "I1007 00:04:32.789799 140481400928000 _internal.py:122] ::ffff:127.0.0.1 - - [07/Oct/2019 00:04:32] \"\u001b[37mGET /data/plugin/scalars/scalars?tag=ray%2Ftune%2Finfo%2Flearner%2Fdefault_policy%2Fentropy_coeff&run=PPO_WaveAttenuationPOEnv-v0_0_2019-10-06_23-18-54klgp__ke&experiment= HTTP/1.1\u001b[0m\" 200 -\n",
      "I1007 00:04:32.791955 140481627408128 _internal.py:122] ::ffff:127.0.0.1 - - [07/Oct/2019 00:04:32] \"\u001b[37mGET /data/plugin/scalars/scalars?tag=ray%2Ftune%2Finfo%2Flearner%2Fdefault_policy%2Fkl&run=PPO_WaveAttenuationPOEnv-v0_0_2019-10-06_23-07-079nsv_a4k&experiment= HTTP/1.1\u001b[0m\" 200 -\n",
      "I1007 00:04:32.801199 140481384142592 _internal.py:122] ::ffff:127.0.0.1 - - [07/Oct/2019 00:04:32] \"\u001b[37mGET /data/plugin/scalars/scalars?tag=ray%2Ftune%2Finfo%2Flearner%2Fdefault_policy%2Fkl&run=PPO_WaveAttenuationPOEnv-v0_0_2019-10-06_23-59-29h06wzir3&experiment= HTTP/1.1\u001b[0m\" 200 -\n",
      "I1007 00:04:32.801548 140481751508736 _internal.py:122] ::ffff:127.0.0.1 - - [07/Oct/2019 00:04:32] \"\u001b[37mGET /data/plugin/scalars/scalars?tag=ray%2Ftune%2Finfo%2Flearner%2Fdefault_policy%2Fkl&run=PPO_WaveAttenuationPOEnv-v0_0_2019-10-06_23-18-54klgp__ke&experiment= HTTP/1.1\u001b[0m\" 200 -\n",
      "I1007 00:04:32.864193 140481619015424 _internal.py:122] ::ffff:127.0.0.1 - - [07/Oct/2019 00:04:32] \"\u001b[37mGET /data/plugin/scalars/tags HTTP/1.1\u001b[0m\" 200 -\n",
      "I1007 00:04:33.350960 140481619015424 _internal.py:122] ::ffff:127.0.0.1 - - [07/Oct/2019 00:04:33] \"\u001b[37mGET /data/plugin/scalars/scalars?tag=ray%2Ftune%2Fepisode_len_mean&run=PPO_WaveAttenuationPOEnv-v0_0_2019-10-06_23-07-079nsv_a4k&experiment= HTTP/1.1\u001b[0m\" 200 -\n",
      "I1007 00:04:33.355651 140481627408128 _internal.py:122] ::ffff:127.0.0.1 - - [07/Oct/2019 00:04:33] \"\u001b[37mGET /data/plugin/scalars/scalars?tag=ray%2Ftune%2Fepisode_reward_max&run=PPO_WaveAttenuationPOEnv-v0_0_2019-10-06_23-07-079nsv_a4k&experiment= HTTP/1.1\u001b[0m\" 200 -\n",
      "I1007 00:04:33.356906 140481751508736 _internal.py:122] ::ffff:127.0.0.1 - - [07/Oct/2019 00:04:33] \"\u001b[37mGET /data/plugin/scalars/scalars?tag=ray%2Ftune%2Fepisode_len_mean&run=PPO_WaveAttenuationPOEnv-v0_0_2019-10-06_23-18-54klgp__ke&experiment= HTTP/1.1\u001b[0m\" 200 -\n",
      "I1007 00:04:33.362663 140481384142592 _internal.py:122] ::ffff:127.0.0.1 - - [07/Oct/2019 00:04:33] \"\u001b[37mGET /data/plugin/scalars/scalars?tag=ray%2Ftune%2Fepisode_len_mean&run=PPO_WaveAttenuationPOEnv-v0_0_2019-10-06_23-59-29h06wzir3&experiment= HTTP/1.1\u001b[0m\" 200 -\n",
      "I1007 00:04:33.366517 140481635800832 _internal.py:122] ::ffff:127.0.0.1 - - [07/Oct/2019 00:04:33] \"\u001b[37mGET /data/plugin/scalars/scalars?tag=ray%2Ftune%2Fepisode_reward_max&run=PPO_WaveAttenuationPOEnv-v0_0_2019-10-06_23-59-29h06wzir3&experiment= HTTP/1.1\u001b[0m\" 200 -\n",
      "I1007 00:04:33.367403 140481400928000 _internal.py:122] ::ffff:127.0.0.1 - - [07/Oct/2019 00:04:33] \"\u001b[37mGET /data/plugin/scalars/scalars?tag=ray%2Ftune%2Fepisode_reward_max&run=PPO_WaveAttenuationPOEnv-v0_0_2019-10-06_23-18-54klgp__ke&experiment= HTTP/1.1\u001b[0m\" 200 -\n",
      "I1007 00:04:33.369987 140481619015424 _internal.py:122] ::ffff:127.0.0.1 - - [07/Oct/2019 00:04:33] \"\u001b[37mGET /data/plugin/scalars/scalars?tag=ray%2Ftune%2Fepisode_reward_mean&run=PPO_WaveAttenuationPOEnv-v0_0_2019-10-06_23-07-079nsv_a4k&experiment= HTTP/1.1\u001b[0m\" 200 -\n",
      "I1007 00:04:33.372508 140481627408128 _internal.py:122] ::ffff:127.0.0.1 - - [07/Oct/2019 00:04:33] \"\u001b[37mGET /data/plugin/scalars/scalars?tag=ray%2Ftune%2Fepisode_reward_mean&run=PPO_WaveAttenuationPOEnv-v0_0_2019-10-06_23-18-54klgp__ke&experiment= HTTP/1.1\u001b[0m\" 200 -\n",
      "I1007 00:04:33.375896 140481384142592 _internal.py:122] ::ffff:127.0.0.1 - - [07/Oct/2019 00:04:33] \"\u001b[37mGET /data/plugin/scalars/scalars?tag=ray%2Ftune%2Fepisode_reward_min&run=PPO_WaveAttenuationPOEnv-v0_0_2019-10-06_23-07-079nsv_a4k&experiment= HTTP/1.1\u001b[0m\" 200 -\n",
      "I1007 00:04:33.376271 140481751508736 _internal.py:122] ::ffff:127.0.0.1 - - [07/Oct/2019 00:04:33] \"\u001b[37mGET /data/plugin/scalars/scalars?tag=ray%2Ftune%2Fepisode_reward_mean&run=PPO_WaveAttenuationPOEnv-v0_0_2019-10-06_23-59-29h06wzir3&experiment= HTTP/1.1\u001b[0m\" 200 -\n",
      "I1007 00:04:33.380645 140481400928000 _internal.py:122] ::ffff:127.0.0.1 - - [07/Oct/2019 00:04:33] \"\u001b[37mGET /data/plugin/scalars/scalars?tag=ray%2Ftune%2Fepisode_reward_min&run=PPO_WaveAttenuationPOEnv-v0_0_2019-10-06_23-18-54klgp__ke&experiment= HTTP/1.1\u001b[0m\" 200 -\n",
      "I1007 00:04:33.381077 140481635800832 _internal.py:122] ::ffff:127.0.0.1 - - [07/Oct/2019 00:04:33] \"\u001b[37mGET /data/plugin/scalars/scalars?tag=ray%2Ftune%2Fepisode_reward_min&run=PPO_WaveAttenuationPOEnv-v0_0_2019-10-06_23-59-29h06wzir3&experiment= HTTP/1.1\u001b[0m\" 200 -\n",
      "I1007 00:04:33.435222 140481627408128 _internal.py:122] ::ffff:127.0.0.1 - - [07/Oct/2019 00:04:33] \"\u001b[37mGET /data/plugin/scalars/scalars?tag=ray%2Ftune%2Fepisodes_total&run=PPO_WaveAttenuationPOEnv-v0_0_2019-10-06_23-07-079nsv_a4k&experiment= HTTP/1.1\u001b[0m\" 200 -\n",
      "I1007 00:04:33.436020 140481384142592 _internal.py:122] ::ffff:127.0.0.1 - - [07/Oct/2019 00:04:33] \"\u001b[37mGET /data/plugin/scalars/scalars?tag=ray%2Ftune%2Fepisodes_this_iter&run=PPO_WaveAttenuationPOEnv-v0_0_2019-10-06_23-07-079nsv_a4k&experiment= HTTP/1.1\u001b[0m\" 200 -\n",
      "I1007 00:04:33.436976 140481635800832 _internal.py:122] ::ffff:127.0.0.1 - - [07/Oct/2019 00:04:33] \"\u001b[37mGET /data/plugin/scalars/scalars?tag=ray%2Ftune%2Fepisodes_total&run=PPO_WaveAttenuationPOEnv-v0_0_2019-10-06_23-18-54klgp__ke&experiment= HTTP/1.1\u001b[0m\" 200 -\n",
      "I1007 00:04:33.437363 140481619015424 _internal.py:122] ::ffff:127.0.0.1 - - [07/Oct/2019 00:04:33] \"\u001b[37mGET /data/plugin/scalars/scalars?tag=ray%2Ftune%2Fepisodes_this_iter&run=PPO_WaveAttenuationPOEnv-v0_0_2019-10-06_23-59-29h06wzir3&experiment= HTTP/1.1\u001b[0m\" 200 -\n",
      "I1007 00:04:33.437747 140481400928000 _internal.py:122] ::ffff:127.0.0.1 - - [07/Oct/2019 00:04:33] \"\u001b[37mGET /data/plugin/scalars/scalars?tag=ray%2Ftune%2Fepisodes_total&run=PPO_WaveAttenuationPOEnv-v0_0_2019-10-06_23-59-29h06wzir3&experiment= HTTP/1.1\u001b[0m\" 200 -\n",
      "I1007 00:04:33.438214 140481751508736 _internal.py:122] ::ffff:127.0.0.1 - - [07/Oct/2019 00:04:33] \"\u001b[37mGET /data/plugin/scalars/scalars?tag=ray%2Ftune%2Fepisodes_this_iter&run=PPO_WaveAttenuationPOEnv-v0_0_2019-10-06_23-18-54klgp__ke&experiment= HTTP/1.1\u001b[0m\" 200 -\n"
     ]
    },
    {
     "name": "stdout",
     "output_type": "stream",
     "text": [
      "I1007 00:04:33.482952 140481384142592 _internal.py:122] ::ffff:127.0.0.1 - - [07/Oct/2019 00:04:33] \"\u001b[37mGET /data/plugin/scalars/scalars?tag=ray%2Ftune%2Finfo%2Fgrad_time_ms&run=PPO_WaveAttenuationPOEnv-v0_0_2019-10-06_23-18-54klgp__ke&experiment= HTTP/1.1\u001b[0m\" 200 -\n",
      "I1007 00:04:33.483453 140481627408128 _internal.py:122] ::ffff:127.0.0.1 - - [07/Oct/2019 00:04:33] \"\u001b[37mGET /data/plugin/scalars/scalars?tag=ray%2Ftune%2Finfo%2Fgrad_time_ms&run=PPO_WaveAttenuationPOEnv-v0_0_2019-10-06_23-07-079nsv_a4k&experiment= HTTP/1.1\u001b[0m\" 200 -\n",
      "I1007 00:04:33.489403 140481400928000 _internal.py:122] ::ffff:127.0.0.1 - - [07/Oct/2019 00:04:33] \"\u001b[37mGET /data/plugin/scalars/scalars?tag=ray%2Ftune%2Finfo%2Flearner%2Fdefault_policy%2Fcur_kl_coeff&run=PPO_WaveAttenuationPOEnv-v0_0_2019-10-06_23-07-079nsv_a4k&experiment= HTTP/1.1\u001b[0m\" 200 -\n",
      "I1007 00:04:33.490469 140481635800832 _internal.py:122] ::ffff:127.0.0.1 - - [07/Oct/2019 00:04:33] \"\u001b[37mGET /data/plugin/scalars/scalars?tag=ray%2Ftune%2Finfo%2Fgrad_time_ms&run=PPO_WaveAttenuationPOEnv-v0_0_2019-10-06_23-59-29h06wzir3&experiment= HTTP/1.1\u001b[0m\" 200 -\n",
      "I1007 00:04:33.494177 140481751508736 _internal.py:122] ::ffff:127.0.0.1 - - [07/Oct/2019 00:04:33] \"\u001b[37mGET /data/plugin/scalars/scalars?tag=ray%2Ftune%2Finfo%2Flearner%2Fdefault_policy%2Fcur_kl_coeff&run=PPO_WaveAttenuationPOEnv-v0_0_2019-10-06_23-18-54klgp__ke&experiment= HTTP/1.1\u001b[0m\" 200 -\n",
      "I1007 00:04:33.495900 140481619015424 _internal.py:122] ::ffff:127.0.0.1 - - [07/Oct/2019 00:04:33] \"\u001b[37mGET /data/plugin/scalars/scalars?tag=ray%2Ftune%2Finfo%2Flearner%2Fdefault_policy%2Fcur_kl_coeff&run=PPO_WaveAttenuationPOEnv-v0_0_2019-10-06_23-59-29h06wzir3&experiment= HTTP/1.1\u001b[0m\" 200 -\n",
      "I1007 00:04:33.528234 140481627408128 _internal.py:122] ::ffff:127.0.0.1 - - [07/Oct/2019 00:04:33] \"\u001b[37mGET /data/plugin/scalars/scalars?tag=ray%2Ftune%2Finfo%2Flearner%2Fdefault_policy%2Fcur_lr&run=PPO_WaveAttenuationPOEnv-v0_0_2019-10-06_23-07-079nsv_a4k&experiment= HTTP/1.1\u001b[0m\" 200 -\n",
      "I1007 00:04:33.529025 140481384142592 _internal.py:122] ::ffff:127.0.0.1 - - [07/Oct/2019 00:04:33] \"\u001b[37mGET /data/plugin/scalars/scalars?tag=ray%2Ftune%2Finfo%2Flearner%2Fdefault_policy%2Fcur_lr&run=PPO_WaveAttenuationPOEnv-v0_0_2019-10-06_23-18-54klgp__ke&experiment= HTTP/1.1\u001b[0m\" 200 -\n",
      "I1007 00:04:33.535645 140481400928000 _internal.py:122] ::ffff:127.0.0.1 - - [07/Oct/2019 00:04:33] \"\u001b[37mGET /data/plugin/scalars/scalars?tag=ray%2Ftune%2Finfo%2Flearner%2Fdefault_policy%2Fcur_lr&run=PPO_WaveAttenuationPOEnv-v0_0_2019-10-06_23-59-29h06wzir3&experiment= HTTP/1.1\u001b[0m\" 200 -\n",
      "I1007 00:04:33.545594 140481635800832 _internal.py:122] ::ffff:127.0.0.1 - - [07/Oct/2019 00:04:33] \"\u001b[37mGET /data/plugin/scalars/scalars?tag=ray%2Ftune%2Finfo%2Flearner%2Fdefault_policy%2Fentropy&run=PPO_WaveAttenuationPOEnv-v0_0_2019-10-06_23-07-079nsv_a4k&experiment= HTTP/1.1\u001b[0m\" 200 -\n",
      "I1007 00:04:33.546724 140481751508736 _internal.py:122] ::ffff:127.0.0.1 - - [07/Oct/2019 00:04:33] \"\u001b[37mGET /data/plugin/scalars/scalars?tag=ray%2Ftune%2Finfo%2Flearner%2Fdefault_policy%2Fentropy&run=PPO_WaveAttenuationPOEnv-v0_0_2019-10-06_23-59-29h06wzir3&experiment= HTTP/1.1\u001b[0m\" 200 -\n",
      "I1007 00:04:33.547799 140481619015424 _internal.py:122] ::ffff:127.0.0.1 - - [07/Oct/2019 00:04:33] \"\u001b[37mGET /data/plugin/scalars/scalars?tag=ray%2Ftune%2Finfo%2Flearner%2Fdefault_policy%2Fentropy&run=PPO_WaveAttenuationPOEnv-v0_0_2019-10-06_23-18-54klgp__ke&experiment= HTTP/1.1\u001b[0m\" 200 -\n",
      "I1007 00:04:33.572890 140481627408128 _internal.py:122] ::ffff:127.0.0.1 - - [07/Oct/2019 00:04:33] \"\u001b[37mGET /data/plugin/scalars/scalars?tag=ray%2Ftune%2Finfo%2Flearner%2Fdefault_policy%2Fentropy_coeff&run=PPO_WaveAttenuationPOEnv-v0_0_2019-10-06_23-07-079nsv_a4k&experiment= HTTP/1.1\u001b[0m\" 200 -\n",
      "I1007 00:04:33.574069 140481384142592 _internal.py:122] ::ffff:127.0.0.1 - - [07/Oct/2019 00:04:33] \"\u001b[37mGET /data/plugin/scalars/scalars?tag=ray%2Ftune%2Finfo%2Flearner%2Fdefault_policy%2Fentropy_coeff&run=PPO_WaveAttenuationPOEnv-v0_0_2019-10-06_23-18-54klgp__ke&experiment= HTTP/1.1\u001b[0m\" 200 -\n",
      "I1007 00:04:33.579481 140481400928000 _internal.py:122] ::ffff:127.0.0.1 - - [07/Oct/2019 00:04:33] \"\u001b[37mGET /data/plugin/scalars/scalars?tag=ray%2Ftune%2Finfo%2Flearner%2Fdefault_policy%2Fentropy_coeff&run=PPO_WaveAttenuationPOEnv-v0_0_2019-10-06_23-59-29h06wzir3&experiment= HTTP/1.1\u001b[0m\" 200 -\n",
      "I1007 00:04:33.596467 140481619015424 _internal.py:122] ::ffff:127.0.0.1 - - [07/Oct/2019 00:04:33] \"\u001b[37mGET /data/plugin/scalars/scalars?tag=ray%2Ftune%2Finfo%2Flearner%2Fdefault_policy%2Fkl&run=PPO_WaveAttenuationPOEnv-v0_0_2019-10-06_23-07-079nsv_a4k&experiment= HTTP/1.1\u001b[0m\" 200 -\n",
      "I1007 00:04:33.601105 140481751508736 _internal.py:122] ::ffff:127.0.0.1 - - [07/Oct/2019 00:04:33] \"\u001b[37mGET /data/plugin/scalars/scalars?tag=ray%2Ftune%2Finfo%2Flearner%2Fdefault_policy%2Fkl&run=PPO_WaveAttenuationPOEnv-v0_0_2019-10-06_23-18-54klgp__ke&experiment= HTTP/1.1\u001b[0m\" 200 -\n",
      "I1007 00:04:33.603384 140481635800832 _internal.py:122] ::ffff:127.0.0.1 - - [07/Oct/2019 00:04:33] \"\u001b[37mGET /data/plugin/scalars/scalars?tag=ray%2Ftune%2Finfo%2Flearner%2Fdefault_policy%2Fkl&run=PPO_WaveAttenuationPOEnv-v0_0_2019-10-06_23-59-29h06wzir3&experiment= HTTP/1.1\u001b[0m\" 200 -\n",
      "I1007 00:04:35.795662 140481635800832 _internal.py:122] ::ffff:127.0.0.1 - - [07/Oct/2019 00:04:35] \"\u001b[37mGET /data/plugin/scalars/scalars?tag=ray%2Ftune%2Finfo%2Flearner%2Fdefault_policy%2Fpolicy_loss&run=PPO_WaveAttenuationPOEnv-v0_0_2019-10-06_23-07-079nsv_a4k&experiment= HTTP/1.1\u001b[0m\" 200 -\n",
      "I1007 00:04:35.798196 140481751508736 _internal.py:122] ::ffff:127.0.0.1 - - [07/Oct/2019 00:04:35] \"\u001b[37mGET /data/plugin/scalars/scalars?tag=ray%2Ftune%2Finfo%2Flearner%2Fdefault_policy%2Fpolicy_loss&run=PPO_WaveAttenuationPOEnv-v0_0_2019-10-06_23-18-54klgp__ke&experiment= HTTP/1.1\u001b[0m\" 200 -\n",
      "I1007 00:04:35.800481 140481627408128 _internal.py:122] ::ffff:127.0.0.1 - - [07/Oct/2019 00:04:35] \"\u001b[37mGET /data/plugin/scalars/scalars?tag=ray%2Ftune%2Finfo%2Flearner%2Fdefault_policy%2Ftotal_loss&run=PPO_WaveAttenuationPOEnv-v0_0_2019-10-06_23-59-29h06wzir3&experiment= HTTP/1.1\u001b[0m\" 200 -\n",
      "I1007 00:04:35.800709 140481619015424 _internal.py:122] ::ffff:127.0.0.1 - - [07/Oct/2019 00:04:35] \"\u001b[37mGET /data/plugin/scalars/scalars?tag=ray%2Ftune%2Finfo%2Flearner%2Fdefault_policy%2Fpolicy_loss&run=PPO_WaveAttenuationPOEnv-v0_0_2019-10-06_23-59-29h06wzir3&experiment= HTTP/1.1\u001b[0m\" 200 -\n",
      "I1007 00:04:35.800911 140481400928000 _internal.py:122] ::ffff:127.0.0.1 - - [07/Oct/2019 00:04:35] \"\u001b[37mGET /data/plugin/scalars/scalars?tag=ray%2Ftune%2Finfo%2Flearner%2Fdefault_policy%2Ftotal_loss&run=PPO_WaveAttenuationPOEnv-v0_0_2019-10-06_23-07-079nsv_a4k&experiment= HTTP/1.1\u001b[0m\" 200 -\n",
      "I1007 00:04:35.801064 140481384142592 _internal.py:122] ::ffff:127.0.0.1 - - [07/Oct/2019 00:04:35] \"\u001b[37mGET /data/plugin/scalars/scalars?tag=ray%2Ftune%2Finfo%2Flearner%2Fdefault_policy%2Ftotal_loss&run=PPO_WaveAttenuationPOEnv-v0_0_2019-10-06_23-18-54klgp__ke&experiment= HTTP/1.1\u001b[0m\" 200 -\n",
      "I1007 00:04:35.803099 140481635800832 _internal.py:122] ::ffff:127.0.0.1 - - [07/Oct/2019 00:04:35] \"\u001b[37mGET /data/plugin/scalars/scalars?tag=ray%2Ftune%2Finfo%2Flearner%2Fdefault_policy%2Fvf_explained_var&run=PPO_WaveAttenuationPOEnv-v0_0_2019-10-06_23-07-079nsv_a4k&experiment= HTTP/1.1\u001b[0m\" 200 -\n",
      "I1007 00:04:35.815523 140481751508736 _internal.py:122] ::ffff:127.0.0.1 - - [07/Oct/2019 00:04:35] \"\u001b[37mGET /data/plugin/scalars/scalars?tag=ray%2Ftune%2Finfo%2Flearner%2Fdefault_policy%2Fvf_explained_var&run=PPO_WaveAttenuationPOEnv-v0_0_2019-10-06_23-18-54klgp__ke&experiment= HTTP/1.1\u001b[0m\" 200 -\n",
      "I1007 00:04:35.816037 140481627408128 _internal.py:122] ::ffff:127.0.0.1 - - [07/Oct/2019 00:04:35] \"\u001b[37mGET /data/plugin/scalars/scalars?tag=ray%2Ftune%2Finfo%2Flearner%2Fdefault_policy%2Fvf_explained_var&run=PPO_WaveAttenuationPOEnv-v0_0_2019-10-06_23-59-29h06wzir3&experiment= HTTP/1.1\u001b[0m\" 200 -\n",
      "I1007 00:04:35.817912 140481384142592 _internal.py:122] ::ffff:127.0.0.1 - - [07/Oct/2019 00:04:35] \"\u001b[37mGET /data/plugin/scalars/scalars?tag=ray%2Ftune%2Finfo%2Flearner%2Fdefault_policy%2Fvf_loss&run=PPO_WaveAttenuationPOEnv-v0_0_2019-10-06_23-59-29h06wzir3&experiment= HTTP/1.1\u001b[0m\" 200 -\n",
      "I1007 00:04:35.819413 140481619015424 _internal.py:122] ::ffff:127.0.0.1 - - [07/Oct/2019 00:04:35] \"\u001b[37mGET /data/plugin/scalars/scalars?tag=ray%2Ftune%2Finfo%2Flearner%2Fdefault_policy%2Fvf_loss&run=PPO_WaveAttenuationPOEnv-v0_0_2019-10-06_23-07-079nsv_a4k&experiment= HTTP/1.1\u001b[0m\" 200 -\n",
      "I1007 00:04:35.820082 140481400928000 _internal.py:122] ::ffff:127.0.0.1 - - [07/Oct/2019 00:04:35] \"\u001b[37mGET /data/plugin/scalars/scalars?tag=ray%2Ftune%2Finfo%2Flearner%2Fdefault_policy%2Fvf_loss&run=PPO_WaveAttenuationPOEnv-v0_0_2019-10-06_23-18-54klgp__ke&experiment= HTTP/1.1\u001b[0m\" 200 -\n"
     ]
    },
    {
     "name": "stdout",
     "output_type": "stream",
     "text": [
      "I1007 00:04:35.855525 140481635800832 _internal.py:122] ::ffff:127.0.0.1 - - [07/Oct/2019 00:04:35] \"\u001b[37mGET /data/plugin/scalars/scalars?tag=ray%2Ftune%2Finfo%2Fload_time_ms&run=PPO_WaveAttenuationPOEnv-v0_0_2019-10-06_23-07-079nsv_a4k&experiment= HTTP/1.1\u001b[0m\" 200 -\n",
      "I1007 00:04:35.868027 140481619015424 _internal.py:122] ::ffff:127.0.0.1 - - [07/Oct/2019 00:04:35] \"\u001b[37mGET /data/plugin/scalars/scalars?tag=ray%2Ftune%2Finfo%2Fload_time_ms&run=PPO_WaveAttenuationPOEnv-v0_0_2019-10-06_23-18-54klgp__ke&experiment= HTTP/1.1\u001b[0m\" 200 -\n",
      "I1007 00:04:35.870556 140481627408128 _internal.py:122] ::ffff:127.0.0.1 - - [07/Oct/2019 00:04:35] \"\u001b[37mGET /data/plugin/scalars/scalars?tag=ray%2Ftune%2Finfo%2Fload_time_ms&run=PPO_WaveAttenuationPOEnv-v0_0_2019-10-06_23-59-29h06wzir3&experiment= HTTP/1.1\u001b[0m\" 200 -\n",
      "I1007 00:04:35.870844 140481384142592 _internal.py:122] ::ffff:127.0.0.1 - - [07/Oct/2019 00:04:35] \"\u001b[37mGET /data/plugin/scalars/scalars?tag=ray%2Ftune%2Finfo%2Fnum_steps_sampled&run=PPO_WaveAttenuationPOEnv-v0_0_2019-10-06_23-18-54klgp__ke&experiment= HTTP/1.1\u001b[0m\" 200 -\n",
      "I1007 00:04:35.871089 140481751508736 _internal.py:122] ::ffff:127.0.0.1 - - [07/Oct/2019 00:04:35] \"\u001b[37mGET /data/plugin/scalars/scalars?tag=ray%2Ftune%2Finfo%2Fnum_steps_sampled&run=PPO_WaveAttenuationPOEnv-v0_0_2019-10-06_23-07-079nsv_a4k&experiment= HTTP/1.1\u001b[0m\" 200 -\n",
      "I1007 00:04:35.871652 140481400928000 _internal.py:122] ::ffff:127.0.0.1 - - [07/Oct/2019 00:04:35] \"\u001b[37mGET /data/plugin/scalars/scalars?tag=ray%2Ftune%2Finfo%2Fnum_steps_sampled&run=PPO_WaveAttenuationPOEnv-v0_0_2019-10-06_23-59-29h06wzir3&experiment= HTTP/1.1\u001b[0m\" 200 -\n",
      "I1007 00:04:35.899429 140481635800832 _internal.py:122] ::ffff:127.0.0.1 - - [07/Oct/2019 00:04:35] \"\u001b[37mGET /data/plugin/scalars/scalars?tag=ray%2Ftune%2Finfo%2Fnum_steps_trained&run=PPO_WaveAttenuationPOEnv-v0_0_2019-10-06_23-07-079nsv_a4k&experiment= HTTP/1.1\u001b[0m\" 200 -\n",
      "I1007 00:04:35.917695 140481627408128 _internal.py:122] ::ffff:127.0.0.1 - - [07/Oct/2019 00:04:35] \"\u001b[37mGET /data/plugin/scalars/scalars?tag=ray%2Ftune%2Finfo%2Fnum_steps_trained&run=PPO_WaveAttenuationPOEnv-v0_0_2019-10-06_23-59-29h06wzir3&experiment= HTTP/1.1\u001b[0m\" 200 -\n",
      "I1007 00:04:35.917873 140481400928000 _internal.py:122] ::ffff:127.0.0.1 - - [07/Oct/2019 00:04:35] \"\u001b[37mGET /data/plugin/scalars/scalars?tag=ray%2Ftune%2Finfo%2Fsample_time_ms&run=PPO_WaveAttenuationPOEnv-v0_0_2019-10-06_23-07-079nsv_a4k&experiment= HTTP/1.1\u001b[0m\" 200 -\n",
      "I1007 00:04:35.918109 140481384142592 _internal.py:122] ::ffff:127.0.0.1 - - [07/Oct/2019 00:04:35] \"\u001b[37mGET /data/plugin/scalars/scalars?tag=ray%2Ftune%2Finfo%2Fnum_steps_trained&run=PPO_WaveAttenuationPOEnv-v0_0_2019-10-06_23-18-54klgp__ke&experiment= HTTP/1.1\u001b[0m\" 200 -\n",
      "I1007 00:04:35.918550 140481751508736 _internal.py:122] ::ffff:127.0.0.1 - - [07/Oct/2019 00:04:35] \"\u001b[37mGET /data/plugin/scalars/scalars?tag=ray%2Ftune%2Finfo%2Fsample_time_ms&run=PPO_WaveAttenuationPOEnv-v0_0_2019-10-06_23-18-54klgp__ke&experiment= HTTP/1.1\u001b[0m\" 200 -\n",
      "I1007 00:04:35.919312 140481619015424 _internal.py:122] ::ffff:127.0.0.1 - - [07/Oct/2019 00:04:35] \"\u001b[37mGET /data/plugin/scalars/scalars?tag=ray%2Ftune%2Finfo%2Fsample_time_ms&run=PPO_WaveAttenuationPOEnv-v0_0_2019-10-06_23-59-29h06wzir3&experiment= HTTP/1.1\u001b[0m\" 200 -\n",
      "I1007 00:04:35.947404 140481635800832 _internal.py:122] ::ffff:127.0.0.1 - - [07/Oct/2019 00:04:35] \"\u001b[37mGET /data/plugin/scalars/scalars?tag=ray%2Ftune%2Finfo%2Fupdate_time_ms&run=PPO_WaveAttenuationPOEnv-v0_0_2019-10-06_23-07-079nsv_a4k&experiment= HTTP/1.1\u001b[0m\" 200 -\n",
      "I1007 00:04:35.972935 140481627408128 _internal.py:122] ::ffff:127.0.0.1 - - [07/Oct/2019 00:04:35] \"\u001b[37mGET /data/plugin/scalars/scalars?tag=ray%2Ftune%2Finfo%2Fupdate_time_ms&run=PPO_WaveAttenuationPOEnv-v0_0_2019-10-06_23-18-54klgp__ke&experiment= HTTP/1.1\u001b[0m\" 200 -\n",
      "I1007 00:04:35.976763 140481619015424 _internal.py:122] ::ffff:127.0.0.1 - - [07/Oct/2019 00:04:35] \"\u001b[37mGET /data/plugin/scalars/scalars?tag=ray%2Ftune%2Fiterations_since_restore&run=PPO_WaveAttenuationPOEnv-v0_0_2019-10-06_23-07-079nsv_a4k&experiment= HTTP/1.1\u001b[0m\" 200 -\n",
      "I1007 00:04:35.978450 140481384142592 _internal.py:122] ::ffff:127.0.0.1 - - [07/Oct/2019 00:04:35] \"\u001b[37mGET /data/plugin/scalars/scalars?tag=ray%2Ftune%2Finfo%2Fupdate_time_ms&run=PPO_WaveAttenuationPOEnv-v0_0_2019-10-06_23-59-29h06wzir3&experiment= HTTP/1.1\u001b[0m\" 200 -\n",
      "I1007 00:04:35.979263 140481400928000 _internal.py:122] ::ffff:127.0.0.1 - - [07/Oct/2019 00:04:35] \"\u001b[37mGET /data/plugin/scalars/scalars?tag=ray%2Ftune%2Fiterations_since_restore&run=PPO_WaveAttenuationPOEnv-v0_0_2019-10-06_23-59-29h06wzir3&experiment= HTTP/1.1\u001b[0m\" 200 -\n",
      "I1007 00:04:35.981508 140481751508736 _internal.py:122] ::ffff:127.0.0.1 - - [07/Oct/2019 00:04:35] \"\u001b[37mGET /data/plugin/scalars/scalars?tag=ray%2Ftune%2Fiterations_since_restore&run=PPO_WaveAttenuationPOEnv-v0_0_2019-10-06_23-18-54klgp__ke&experiment= HTTP/1.1\u001b[0m\" 200 -\n",
      "I1007 00:04:35.998590 140481635800832 _internal.py:122] ::ffff:127.0.0.1 - - [07/Oct/2019 00:04:35] \"\u001b[37mGET /data/plugin/scalars/scalars?tag=ray%2Ftune%2Fnum_healthy_workers&run=PPO_WaveAttenuationPOEnv-v0_0_2019-10-06_23-07-079nsv_a4k&experiment= HTTP/1.1\u001b[0m\" 200 -\n",
      "I1007 00:04:36.017514 140481627408128 _internal.py:122] ::ffff:127.0.0.1 - - [07/Oct/2019 00:04:36] \"\u001b[37mGET /data/plugin/scalars/scalars?tag=ray%2Ftune%2Fnum_healthy_workers&run=PPO_WaveAttenuationPOEnv-v0_0_2019-10-06_23-18-54klgp__ke&experiment= HTTP/1.1\u001b[0m\" 200 -\n",
      "I1007 00:04:36.021093 140481619015424 _internal.py:122] ::ffff:127.0.0.1 - - [07/Oct/2019 00:04:36] \"\u001b[37mGET /data/plugin/scalars/scalars?tag=ray%2Ftune%2Fnum_healthy_workers&run=PPO_WaveAttenuationPOEnv-v0_0_2019-10-06_23-59-29h06wzir3&experiment= HTTP/1.1\u001b[0m\" 200 -\n",
      "I1007 00:04:36.027051 140481384142592 _internal.py:122] ::ffff:127.0.0.1 - - [07/Oct/2019 00:04:36] \"\u001b[37mGET /data/plugin/scalars/scalars?tag=ray%2Ftune%2Fperf%2Fcpu_util_percent&run=PPO_WaveAttenuationPOEnv-v0_0_2019-10-06_23-18-54klgp__ke&experiment= HTTP/1.1\u001b[0m\" 200 -\n",
      "I1007 00:04:36.028681 140481400928000 _internal.py:122] ::ffff:127.0.0.1 - - [07/Oct/2019 00:04:36] \"\u001b[37mGET /data/plugin/scalars/scalars?tag=ray%2Ftune%2Fperf%2Fcpu_util_percent&run=PPO_WaveAttenuationPOEnv-v0_0_2019-10-06_23-59-29h06wzir3&experiment= HTTP/1.1\u001b[0m\" 200 -\n",
      "I1007 00:04:36.029221 140481751508736 _internal.py:122] ::ffff:127.0.0.1 - - [07/Oct/2019 00:04:36] \"\u001b[37mGET /data/plugin/scalars/scalars?tag=ray%2Ftune%2Fperf%2Fcpu_util_percent&run=PPO_WaveAttenuationPOEnv-v0_0_2019-10-06_23-07-079nsv_a4k&experiment= HTTP/1.1\u001b[0m\" 200 -\n",
      "I1007 00:04:57.978240 140481751508736 _internal.py:122] ::ffff:127.0.0.1 - - [07/Oct/2019 00:04:57] \"\u001b[37mGET /data/plugin/scalars/scalars?tag=ray%2Ftune%2Fperf%2Fram_util_percent&run=PPO_WaveAttenuationPOEnv-v0_0_2019-10-06_23-07-079nsv_a4k&experiment= HTTP/1.1\u001b[0m\" 200 -\n",
      "I1007 00:04:57.979828 140481384142592 _internal.py:122] ::ffff:127.0.0.1 - - [07/Oct/2019 00:04:57] \"\u001b[37mGET /data/plugin/scalars/scalars?tag=ray%2Ftune%2Fperf%2Fram_util_percent&run=PPO_WaveAttenuationPOEnv-v0_0_2019-10-06_23-18-54klgp__ke&experiment= HTTP/1.1\u001b[0m\" 200 -\n",
      "I1007 00:04:57.983906 140481400928000 _internal.py:122] ::ffff:127.0.0.1 - - [07/Oct/2019 00:04:57] \"\u001b[37mGET /data/plugin/scalars/scalars?tag=ray%2Ftune%2Fperf%2Fram_util_percent&run=PPO_WaveAttenuationPOEnv-v0_0_2019-10-06_23-59-29h06wzir3&experiment= HTTP/1.1\u001b[0m\" 200 -\n",
      "I1007 00:04:57.984913 140481635800832 _internal.py:122] ::ffff:127.0.0.1 - - [07/Oct/2019 00:04:57] \"\u001b[37mGET /data/plugin/scalars/scalars?tag=ray%2Ftune%2Fsampler_perf%2Fmean_env_wait_ms&run=PPO_WaveAttenuationPOEnv-v0_0_2019-10-06_23-59-29h06wzir3&experiment= HTTP/1.1\u001b[0m\" 200 -\n",
      "I1007 00:04:57.988081 140481619015424 _internal.py:122] ::ffff:127.0.0.1 - - [07/Oct/2019 00:04:57] \"\u001b[37mGET /data/plugin/scalars/scalars?tag=ray%2Ftune%2Fsampler_perf%2Fmean_env_wait_ms&run=PPO_WaveAttenuationPOEnv-v0_0_2019-10-06_23-07-079nsv_a4k&experiment= HTTP/1.1\u001b[0m\" 200 -\n",
      "I1007 00:04:57.988957 140481627408128 _internal.py:122] ::ffff:127.0.0.1 - - [07/Oct/2019 00:04:57] \"\u001b[37mGET /data/plugin/scalars/scalars?tag=ray%2Ftune%2Fsampler_perf%2Fmean_env_wait_ms&run=PPO_WaveAttenuationPOEnv-v0_0_2019-10-06_23-18-54klgp__ke&experiment= HTTP/1.1\u001b[0m\" 200 -\n"
     ]
    },
    {
     "name": "stdout",
     "output_type": "stream",
     "text": [
      "I1007 00:04:58.004148 140481619015424 _internal.py:122] ::ffff:127.0.0.1 - - [07/Oct/2019 00:04:58] \"\u001b[37mGET /data/plugin/scalars/scalars?tag=ray%2Ftune%2Fsampler_perf%2Fmean_processing_ms&run=PPO_WaveAttenuationPOEnv-v0_0_2019-10-06_23-18-54klgp__ke&experiment= HTTP/1.1\u001b[0m\" 200 -\n",
      "I1007 00:04:58.004933 140481400928000 _internal.py:122] ::ffff:127.0.0.1 - - [07/Oct/2019 00:04:58] \"\u001b[37mGET /data/plugin/scalars/scalars?tag=ray%2Ftune%2Fsampler_perf%2Fmean_inference_ms&run=PPO_WaveAttenuationPOEnv-v0_0_2019-10-06_23-59-29h06wzir3&experiment= HTTP/1.1\u001b[0m\" 200 -\n",
      "I1007 00:04:58.005270 140481384142592 _internal.py:122] ::ffff:127.0.0.1 - - [07/Oct/2019 00:04:58] \"\u001b[37mGET /data/plugin/scalars/scalars?tag=ray%2Ftune%2Fsampler_perf%2Fmean_inference_ms&run=PPO_WaveAttenuationPOEnv-v0_0_2019-10-06_23-18-54klgp__ke&experiment= HTTP/1.1\u001b[0m\" 200 -\n",
      "I1007 00:04:58.005551 140481627408128 _internal.py:122] ::ffff:127.0.0.1 - - [07/Oct/2019 00:04:58] \"\u001b[37mGET /data/plugin/scalars/scalars?tag=ray%2Ftune%2Fsampler_perf%2Fmean_processing_ms&run=PPO_WaveAttenuationPOEnv-v0_0_2019-10-06_23-59-29h06wzir3&experiment= HTTP/1.1\u001b[0m\" 200 -\n",
      "I1007 00:04:58.005769 140481751508736 _internal.py:122] ::ffff:127.0.0.1 - - [07/Oct/2019 00:04:58] \"\u001b[37mGET /data/plugin/scalars/scalars?tag=ray%2Ftune%2Fsampler_perf%2Fmean_inference_ms&run=PPO_WaveAttenuationPOEnv-v0_0_2019-10-06_23-07-079nsv_a4k&experiment= HTTP/1.1\u001b[0m\" 200 -\n",
      "I1007 00:04:58.006098 140481635800832 _internal.py:122] ::ffff:127.0.0.1 - - [07/Oct/2019 00:04:58] \"\u001b[37mGET /data/plugin/scalars/scalars?tag=ray%2Ftune%2Fsampler_perf%2Fmean_processing_ms&run=PPO_WaveAttenuationPOEnv-v0_0_2019-10-06_23-07-079nsv_a4k&experiment= HTTP/1.1\u001b[0m\" 200 -\n",
      "I1007 00:04:58.049064 140481619015424 _internal.py:122] ::ffff:127.0.0.1 - - [07/Oct/2019 00:04:58] \"\u001b[37mGET /data/plugin/scalars/scalars?tag=ray%2Ftune%2Ftime_since_restore&run=PPO_WaveAttenuationPOEnv-v0_0_2019-10-06_23-07-079nsv_a4k&experiment= HTTP/1.1\u001b[0m\" 200 -\n",
      "I1007 00:04:58.055944 140481384142592 _internal.py:122] ::ffff:127.0.0.1 - - [07/Oct/2019 00:04:58] \"\u001b[37mGET /data/plugin/scalars/scalars?tag=ray%2Ftune%2Ftime_since_restore&run=PPO_WaveAttenuationPOEnv-v0_0_2019-10-06_23-18-54klgp__ke&experiment= HTTP/1.1\u001b[0m\" 200 -\n",
      "I1007 00:04:58.058306 140481627408128 _internal.py:122] ::ffff:127.0.0.1 - - [07/Oct/2019 00:04:58] \"\u001b[37mGET /data/plugin/scalars/scalars?tag=ray%2Ftune%2Ftime_this_iter_s&run=PPO_WaveAttenuationPOEnv-v0_0_2019-10-06_23-18-54klgp__ke&experiment= HTTP/1.1\u001b[0m\" 200 -\n",
      "I1007 00:04:58.058629 140481635800832 _internal.py:122] ::ffff:127.0.0.1 - - [07/Oct/2019 00:04:58] \"\u001b[37mGET /data/plugin/scalars/scalars?tag=ray%2Ftune%2Ftime_this_iter_s&run=PPO_WaveAttenuationPOEnv-v0_0_2019-10-06_23-07-079nsv_a4k&experiment= HTTP/1.1\u001b[0m\" 200 -\n",
      "I1007 00:04:58.059068 140481751508736 _internal.py:122] ::ffff:127.0.0.1 - - [07/Oct/2019 00:04:58] \"\u001b[37mGET /data/plugin/scalars/scalars?tag=ray%2Ftune%2Ftime_since_restore&run=PPO_WaveAttenuationPOEnv-v0_0_2019-10-06_23-59-29h06wzir3&experiment= HTTP/1.1\u001b[0m\" 200 -\n",
      "I1007 00:04:58.059599 140481400928000 _internal.py:122] ::ffff:127.0.0.1 - - [07/Oct/2019 00:04:58] \"\u001b[37mGET /data/plugin/scalars/scalars?tag=ray%2Ftune%2Ftime_this_iter_s&run=PPO_WaveAttenuationPOEnv-v0_0_2019-10-06_23-59-29h06wzir3&experiment= HTTP/1.1\u001b[0m\" 200 -\n",
      "I1007 00:04:58.091639 140481619015424 _internal.py:122] ::ffff:127.0.0.1 - - [07/Oct/2019 00:04:58] \"\u001b[37mGET /data/plugin/scalars/scalars?tag=ray%2Ftune%2Ftimesteps_since_restore&run=PPO_WaveAttenuationPOEnv-v0_0_2019-10-06_23-07-079nsv_a4k&experiment= HTTP/1.1\u001b[0m\" 200 -\n",
      "I1007 00:04:58.099504 140481384142592 _internal.py:122] ::ffff:127.0.0.1 - - [07/Oct/2019 00:04:58] \"\u001b[37mGET /data/plugin/scalars/scalars?tag=ray%2Ftune%2Ftimesteps_since_restore&run=PPO_WaveAttenuationPOEnv-v0_0_2019-10-06_23-18-54klgp__ke&experiment= HTTP/1.1\u001b[0m\" 200 -\n",
      "I1007 00:04:58.107954 140481400928000 _internal.py:122] ::ffff:127.0.0.1 - - [07/Oct/2019 00:04:58] \"\u001b[37mGET /data/plugin/scalars/scalars?tag=ray%2Ftune%2Ftimesteps_since_restore&run=PPO_WaveAttenuationPOEnv-v0_0_2019-10-06_23-59-29h06wzir3&experiment= HTTP/1.1\u001b[0m\" 200 -\n",
      "I1007 00:04:58.108869 140481751508736 _internal.py:122] ::ffff:127.0.0.1 - - [07/Oct/2019 00:04:58] \"\u001b[37mGET /data/plugin/scalars/scalars?tag=ray%2Ftune%2Ftimesteps_this_iter&run=PPO_WaveAttenuationPOEnv-v0_0_2019-10-06_23-07-079nsv_a4k&experiment= HTTP/1.1\u001b[0m\" 200 -\n",
      "I1007 00:04:58.115287 140481627408128 _internal.py:122] ::ffff:127.0.0.1 - - [07/Oct/2019 00:04:58] \"\u001b[37mGET /data/plugin/scalars/scalars?tag=ray%2Ftune%2Ftimesteps_this_iter&run=PPO_WaveAttenuationPOEnv-v0_0_2019-10-06_23-59-29h06wzir3&experiment= HTTP/1.1\u001b[0m\" 200 -\n",
      "I1007 00:04:58.116104 140481635800832 _internal.py:122] ::ffff:127.0.0.1 - - [07/Oct/2019 00:04:58] \"\u001b[37mGET /data/plugin/scalars/scalars?tag=ray%2Ftune%2Ftimesteps_this_iter&run=PPO_WaveAttenuationPOEnv-v0_0_2019-10-06_23-18-54klgp__ke&experiment= HTTP/1.1\u001b[0m\" 200 -\n",
      "I1007 00:04:58.139768 140481619015424 _internal.py:122] ::ffff:127.0.0.1 - - [07/Oct/2019 00:04:58] \"\u001b[37mGET /data/plugin/scalars/scalars?tag=ray%2Ftune%2Ftimesteps_total&run=PPO_WaveAttenuationPOEnv-v0_0_2019-10-06_23-07-079nsv_a4k&experiment= HTTP/1.1\u001b[0m\" 200 -\n",
      "I1007 00:04:58.143754 140481384142592 _internal.py:122] ::ffff:127.0.0.1 - - [07/Oct/2019 00:04:58] \"\u001b[37mGET /data/plugin/scalars/scalars?tag=ray%2Ftune%2Ftimesteps_total&run=PPO_WaveAttenuationPOEnv-v0_0_2019-10-06_23-18-54klgp__ke&experiment= HTTP/1.1\u001b[0m\" 200 -\n",
      "I1007 00:04:58.152268 140481400928000 _internal.py:122] ::ffff:127.0.0.1 - - [07/Oct/2019 00:04:58] \"\u001b[37mGET /data/plugin/scalars/scalars?tag=ray%2Ftune%2Ftimesteps_total&run=PPO_WaveAttenuationPOEnv-v0_0_2019-10-06_23-59-29h06wzir3&experiment= HTTP/1.1\u001b[0m\" 200 -\n",
      "I1007 00:04:58.152462 140481751508736 _internal.py:122] ::ffff:127.0.0.1 - - [07/Oct/2019 00:04:58] \"\u001b[37mGET /data/plugin/scalars/scalars?tag=ray%2Ftune%2Ftraining_iteration&run=PPO_WaveAttenuationPOEnv-v0_0_2019-10-06_23-07-079nsv_a4k&experiment= HTTP/1.1\u001b[0m\" 200 -\n",
      "I1007 00:04:58.168417 140481627408128 _internal.py:122] ::ffff:127.0.0.1 - - [07/Oct/2019 00:04:58] \"\u001b[37mGET /data/plugin/scalars/scalars?tag=ray%2Ftune%2Ftraining_iteration&run=PPO_WaveAttenuationPOEnv-v0_0_2019-10-06_23-18-54klgp__ke&experiment= HTTP/1.1\u001b[0m\" 200 -\n",
      "I1007 00:04:58.169720 140481635800832 _internal.py:122] ::ffff:127.0.0.1 - - [07/Oct/2019 00:04:58] \"\u001b[37mGET /data/plugin/scalars/scalars?tag=ray%2Ftune%2Ftraining_iteration&run=PPO_WaveAttenuationPOEnv-v0_0_2019-10-06_23-59-29h06wzir3&experiment= HTTP/1.1\u001b[0m\" 200 -\n",
      "I1007 00:05:02.226281 140481751508736 _internal.py:122] ::ffff:127.0.0.1 - - [07/Oct/2019 00:05:02] \"\u001b[37mGET /data/experiments HTTP/1.1\u001b[0m\" 200 -\n",
      "I1007 00:05:02.229305 140481400928000 _internal.py:122] ::ffff:127.0.0.1 - - [07/Oct/2019 00:05:02] \"\u001b[37mGET /data/runs HTTP/1.1\u001b[0m\" 200 -\n",
      "I1007 00:05:02.231678 140481635800832 _internal.py:122] ::ffff:127.0.0.1 - - [07/Oct/2019 00:05:02] \"\u001b[37mGET /data/environment HTTP/1.1\u001b[0m\" 200 -\n",
      "I1007 00:05:02.237992 140481627408128 _internal.py:122] ::ffff:127.0.0.1 - - [07/Oct/2019 00:05:02] \"\u001b[37mGET /data/plugins_listing HTTP/1.1\u001b[0m\" 200 -\n",
      "I1007 00:05:02.293466 140481627408128 _internal.py:122] ::ffff:127.0.0.1 - - [07/Oct/2019 00:05:02] \"\u001b[37mGET /data/plugin/scalars/tags HTTP/1.1\u001b[0m\" 200 -\n",
      "I1007 00:05:02.349199 140481627408128 _internal.py:122] ::ffff:127.0.0.1 - - [07/Oct/2019 00:05:02] \"\u001b[37mGET /data/plugin/scalars/scalars?tag=ray%2Ftune%2Fepisode_len_mean&run=PPO_WaveAttenuationPOEnv-v0_0_2019-10-06_23-07-079nsv_a4k&experiment= HTTP/1.1\u001b[0m\" 200 -\n",
      "I1007 00:05:02.350332 140481635800832 _internal.py:122] ::ffff:127.0.0.1 - - [07/Oct/2019 00:05:02] \"\u001b[37mGET /data/plugin/scalars/scalars?tag=ray%2Ftune%2Fepisode_len_mean&run=PPO_WaveAttenuationPOEnv-v0_0_2019-10-06_23-18-54klgp__ke&experiment= HTTP/1.1\u001b[0m\" 200 -\n",
      "I1007 00:05:02.350501 140481400928000 _internal.py:122] ::ffff:127.0.0.1 - - [07/Oct/2019 00:05:02] \"\u001b[37mGET /data/plugin/scalars/scalars?tag=ray%2Ftune%2Fepisode_len_mean&run=PPO_WaveAttenuationPOEnv-v0_0_2019-10-06_23-59-29h06wzir3&experiment= HTTP/1.1\u001b[0m\" 200 -\n",
      "I1007 00:05:02.351471 140481751508736 _internal.py:122] ::ffff:127.0.0.1 - - [07/Oct/2019 00:05:02] \"\u001b[37mGET /data/plugin/scalars/scalars?tag=ray%2Ftune%2Fepisode_reward_max&run=PPO_WaveAttenuationPOEnv-v0_0_2019-10-06_23-07-079nsv_a4k&experiment= HTTP/1.1\u001b[0m\" 200 -\n",
      "I1007 00:05:02.352321 140481384142592 _internal.py:122] ::ffff:127.0.0.1 - - [07/Oct/2019 00:05:02] \"\u001b[37mGET /data/plugin/scalars/scalars?tag=ray%2Ftune%2Fepisode_reward_max&run=PPO_WaveAttenuationPOEnv-v0_0_2019-10-06_23-18-54klgp__ke&experiment= HTTP/1.1\u001b[0m\" 200 -\n",
      "I1007 00:05:02.353847 140481400928000 _internal.py:122] ::ffff:127.0.0.1 - - [07/Oct/2019 00:05:02] \"\u001b[37mGET /data/plugin/scalars/scalars?tag=ray%2Ftune%2Fepisode_reward_mean&run=PPO_WaveAttenuationPOEnv-v0_0_2019-10-06_23-18-54klgp__ke&experiment= HTTP/1.1\u001b[0m\" 200 -\n",
      "I1007 00:05:02.354239 140481635800832 _internal.py:122] ::ffff:127.0.0.1 - - [07/Oct/2019 00:05:02] \"\u001b[37mGET /data/plugin/scalars/scalars?tag=ray%2Ftune%2Fepisode_reward_mean&run=PPO_WaveAttenuationPOEnv-v0_0_2019-10-06_23-07-079nsv_a4k&experiment= HTTP/1.1\u001b[0m\" 200 -\n",
      "I1007 00:05:02.354542 140481619015424 _internal.py:122] ::ffff:127.0.0.1 - - [07/Oct/2019 00:05:02] \"\u001b[37mGET /data/plugin/scalars/scalars?tag=ray%2Ftune%2Fepisode_reward_max&run=PPO_WaveAttenuationPOEnv-v0_0_2019-10-06_23-59-29h06wzir3&experiment= HTTP/1.1\u001b[0m\" 200 -\n"
     ]
    },
    {
     "name": "stdout",
     "output_type": "stream",
     "text": [
      "I1007 00:05:02.371103 140481619015424 _internal.py:122] ::ffff:127.0.0.1 - - [07/Oct/2019 00:05:02] \"\u001b[37mGET /data/plugin/scalars/scalars?tag=ray%2Ftune%2Fepisode_reward_mean&run=PPO_WaveAttenuationPOEnv-v0_0_2019-10-06_23-59-29h06wzir3&experiment= HTTP/1.1\u001b[0m\" 200 -\n",
      "I1007 00:05:02.377636 140481384142592 _internal.py:122] ::ffff:127.0.0.1 - - [07/Oct/2019 00:05:02] \"\u001b[37mGET /data/plugin/scalars/scalars?tag=ray%2Ftune%2Fepisode_reward_min&run=PPO_WaveAttenuationPOEnv-v0_0_2019-10-06_23-18-54klgp__ke&experiment= HTTP/1.1\u001b[0m\" 200 -\n",
      "I1007 00:05:02.378407 140481751508736 _internal.py:122] ::ffff:127.0.0.1 - - [07/Oct/2019 00:05:02] \"\u001b[37mGET /data/plugin/scalars/scalars?tag=ray%2Ftune%2Fepisode_reward_min&run=PPO_WaveAttenuationPOEnv-v0_0_2019-10-06_23-07-079nsv_a4k&experiment= HTTP/1.1\u001b[0m\" 200 -\n",
      "I1007 00:05:02.395828 140481627408128 _internal.py:122] ::ffff:127.0.0.1 - - [07/Oct/2019 00:05:02] \"\u001b[37mGET /data/plugin/scalars/scalars?tag=ray%2Ftune%2Fepisode_reward_min&run=PPO_WaveAttenuationPOEnv-v0_0_2019-10-06_23-59-29h06wzir3&experiment= HTTP/1.1\u001b[0m\" 200 -\n",
      "I1007 00:05:02.400115 140481400928000 _internal.py:122] ::ffff:127.0.0.1 - - [07/Oct/2019 00:05:02] \"\u001b[37mGET /data/plugin/scalars/scalars?tag=ray%2Ftune%2Fepisodes_this_iter&run=PPO_WaveAttenuationPOEnv-v0_0_2019-10-06_23-07-079nsv_a4k&experiment= HTTP/1.1\u001b[0m\" 200 -\n",
      "I1007 00:05:02.400890 140481635800832 _internal.py:122] ::ffff:127.0.0.1 - - [07/Oct/2019 00:05:02] \"\u001b[37mGET /data/plugin/scalars/scalars?tag=ray%2Ftune%2Fepisodes_this_iter&run=PPO_WaveAttenuationPOEnv-v0_0_2019-10-06_23-18-54klgp__ke&experiment= HTTP/1.1\u001b[0m\" 200 -\n",
      "I1007 00:05:02.419824 140481619015424 _internal.py:122] ::ffff:127.0.0.1 - - [07/Oct/2019 00:05:02] \"\u001b[37mGET /data/plugin/scalars/scalars?tag=ray%2Ftune%2Fepisodes_this_iter&run=PPO_WaveAttenuationPOEnv-v0_0_2019-10-06_23-59-29h06wzir3&experiment= HTTP/1.1\u001b[0m\" 200 -\n",
      "I1007 00:05:02.428532 140481751508736 _internal.py:122] ::ffff:127.0.0.1 - - [07/Oct/2019 00:05:02] \"\u001b[37mGET /data/plugin/scalars/scalars?tag=ray%2Ftune%2Fepisodes_total&run=PPO_WaveAttenuationPOEnv-v0_0_2019-10-06_23-07-079nsv_a4k&experiment= HTTP/1.1\u001b[0m\" 200 -\n",
      "I1007 00:05:02.429062 140481384142592 _internal.py:122] ::ffff:127.0.0.1 - - [07/Oct/2019 00:05:02] \"\u001b[37mGET /data/plugin/scalars/scalars?tag=ray%2Ftune%2Fepisodes_total&run=PPO_WaveAttenuationPOEnv-v0_0_2019-10-06_23-18-54klgp__ke&experiment= HTTP/1.1\u001b[0m\" 200 -\n",
      "I1007 00:05:02.439834 140481627408128 _internal.py:122] ::ffff:127.0.0.1 - - [07/Oct/2019 00:05:02] \"\u001b[37mGET /data/plugin/scalars/scalars?tag=ray%2Ftune%2Fepisodes_total&run=PPO_WaveAttenuationPOEnv-v0_0_2019-10-06_23-59-29h06wzir3&experiment= HTTP/1.1\u001b[0m\" 200 -\n",
      "I1007 00:05:02.444029 140481400928000 _internal.py:122] ::ffff:127.0.0.1 - - [07/Oct/2019 00:05:02] \"\u001b[37mGET /data/plugin/scalars/scalars?tag=ray%2Ftune%2Finfo%2Fgrad_time_ms&run=PPO_WaveAttenuationPOEnv-v0_0_2019-10-06_23-07-079nsv_a4k&experiment= HTTP/1.1\u001b[0m\" 200 -\n",
      "I1007 00:05:02.447709 140481635800832 _internal.py:122] ::ffff:127.0.0.1 - - [07/Oct/2019 00:05:02] \"\u001b[37mGET /data/plugin/scalars/scalars?tag=ray%2Ftune%2Finfo%2Fgrad_time_ms&run=PPO_WaveAttenuationPOEnv-v0_0_2019-10-06_23-18-54klgp__ke&experiment= HTTP/1.1\u001b[0m\" 200 -\n",
      "I1007 00:05:02.467615 140481619015424 _internal.py:122] ::ffff:127.0.0.1 - - [07/Oct/2019 00:05:02] \"\u001b[37mGET /data/plugin/scalars/scalars?tag=ray%2Ftune%2Finfo%2Fgrad_time_ms&run=PPO_WaveAttenuationPOEnv-v0_0_2019-10-06_23-59-29h06wzir3&experiment= HTTP/1.1\u001b[0m\" 200 -\n",
      "I1007 00:05:02.475092 140481384142592 _internal.py:122] ::ffff:127.0.0.1 - - [07/Oct/2019 00:05:02] \"\u001b[37mGET /data/plugin/scalars/scalars?tag=ray%2Ftune%2Finfo%2Flearner%2Fdefault_policy%2Fcur_kl_coeff&run=PPO_WaveAttenuationPOEnv-v0_0_2019-10-06_23-07-079nsv_a4k&experiment= HTTP/1.1\u001b[0m\" 200 -\n",
      "I1007 00:05:02.478841 140481751508736 _internal.py:122] ::ffff:127.0.0.1 - - [07/Oct/2019 00:05:02] \"\u001b[37mGET /data/plugin/scalars/scalars?tag=ray%2Ftune%2Finfo%2Flearner%2Fdefault_policy%2Fcur_kl_coeff&run=PPO_WaveAttenuationPOEnv-v0_0_2019-10-06_23-18-54klgp__ke&experiment= HTTP/1.1\u001b[0m\" 200 -\n",
      "I1007 00:05:02.484677 140481627408128 _internal.py:122] ::ffff:127.0.0.1 - - [07/Oct/2019 00:05:02] \"\u001b[37mGET /data/plugin/scalars/scalars?tag=ray%2Ftune%2Finfo%2Flearner%2Fdefault_policy%2Fcur_kl_coeff&run=PPO_WaveAttenuationPOEnv-v0_0_2019-10-06_23-59-29h06wzir3&experiment= HTTP/1.1\u001b[0m\" 200 -\n",
      "I1007 00:05:02.488168 140481400928000 _internal.py:122] ::ffff:127.0.0.1 - - [07/Oct/2019 00:05:02] \"\u001b[37mGET /data/plugin/scalars/scalars?tag=ray%2Ftune%2Finfo%2Flearner%2Fdefault_policy%2Fcur_lr&run=PPO_WaveAttenuationPOEnv-v0_0_2019-10-06_23-07-079nsv_a4k&experiment= HTTP/1.1\u001b[0m\" 200 -\n",
      "I1007 00:05:02.492327 140481635800832 _internal.py:122] ::ffff:127.0.0.1 - - [07/Oct/2019 00:05:02] \"\u001b[37mGET /data/plugin/scalars/scalars?tag=ray%2Ftune%2Finfo%2Flearner%2Fdefault_policy%2Fcur_lr&run=PPO_WaveAttenuationPOEnv-v0_0_2019-10-06_23-18-54klgp__ke&experiment= HTTP/1.1\u001b[0m\" 200 -\n",
      "I1007 00:05:02.513741 140481619015424 _internal.py:122] ::ffff:127.0.0.1 - - [07/Oct/2019 00:05:02] \"\u001b[37mGET /data/plugin/scalars/scalars?tag=ray%2Ftune%2Finfo%2Flearner%2Fdefault_policy%2Fcur_lr&run=PPO_WaveAttenuationPOEnv-v0_0_2019-10-06_23-59-29h06wzir3&experiment= HTTP/1.1\u001b[0m\" 200 -\n",
      "I1007 00:05:02.522673 140481384142592 _internal.py:122] ::ffff:127.0.0.1 - - [07/Oct/2019 00:05:02] \"\u001b[37mGET /data/plugin/scalars/scalars?tag=ray%2Ftune%2Finfo%2Flearner%2Fdefault_policy%2Fentropy&run=PPO_WaveAttenuationPOEnv-v0_0_2019-10-06_23-07-079nsv_a4k&experiment= HTTP/1.1\u001b[0m\" 200 -\n",
      "I1007 00:05:02.526276 140481751508736 _internal.py:122] ::ffff:127.0.0.1 - - [07/Oct/2019 00:05:02] \"\u001b[37mGET /data/plugin/scalars/scalars?tag=ray%2Ftune%2Finfo%2Flearner%2Fdefault_policy%2Fentropy&run=PPO_WaveAttenuationPOEnv-v0_0_2019-10-06_23-18-54klgp__ke&experiment= HTTP/1.1\u001b[0m\" 200 -\n",
      "I1007 00:05:02.529841 140481627408128 _internal.py:122] ::ffff:127.0.0.1 - - [07/Oct/2019 00:05:02] \"\u001b[37mGET /data/plugin/scalars/scalars?tag=ray%2Ftune%2Finfo%2Flearner%2Fdefault_policy%2Fentropy&run=PPO_WaveAttenuationPOEnv-v0_0_2019-10-06_23-59-29h06wzir3&experiment= HTTP/1.1\u001b[0m\" 200 -\n",
      "I1007 00:05:02.532514 140481400928000 _internal.py:122] ::ffff:127.0.0.1 - - [07/Oct/2019 00:05:02] \"\u001b[37mGET /data/plugin/scalars/scalars?tag=ray%2Ftune%2Finfo%2Flearner%2Fdefault_policy%2Fentropy_coeff&run=PPO_WaveAttenuationPOEnv-v0_0_2019-10-06_23-07-079nsv_a4k&experiment= HTTP/1.1\u001b[0m\" 200 -\n",
      "I1007 00:05:02.536206 140481635800832 _internal.py:122] ::ffff:127.0.0.1 - - [07/Oct/2019 00:05:02] \"\u001b[37mGET /data/plugin/scalars/scalars?tag=ray%2Ftune%2Finfo%2Flearner%2Fdefault_policy%2Fentropy_coeff&run=PPO_WaveAttenuationPOEnv-v0_0_2019-10-06_23-18-54klgp__ke&experiment= HTTP/1.1\u001b[0m\" 200 -\n",
      "I1007 00:05:02.559461 140481619015424 _internal.py:122] ::ffff:127.0.0.1 - - [07/Oct/2019 00:05:02] \"\u001b[37mGET /data/plugin/scalars/scalars?tag=ray%2Ftune%2Finfo%2Flearner%2Fdefault_policy%2Fentropy_coeff&run=PPO_WaveAttenuationPOEnv-v0_0_2019-10-06_23-59-29h06wzir3&experiment= HTTP/1.1\u001b[0m\" 200 -\n",
      "I1007 00:05:02.570965 140481384142592 _internal.py:122] ::ffff:127.0.0.1 - - [07/Oct/2019 00:05:02] \"\u001b[37mGET /data/plugin/scalars/scalars?tag=ray%2Ftune%2Finfo%2Flearner%2Fdefault_policy%2Fkl&run=PPO_WaveAttenuationPOEnv-v0_0_2019-10-06_23-07-079nsv_a4k&experiment= HTTP/1.1\u001b[0m\" 200 -\n",
      "I1007 00:05:02.575038 140481751508736 _internal.py:122] ::ffff:127.0.0.1 - - [07/Oct/2019 00:05:02] \"\u001b[37mGET /data/plugin/scalars/scalars?tag=ray%2Ftune%2Finfo%2Flearner%2Fdefault_policy%2Fkl&run=PPO_WaveAttenuationPOEnv-v0_0_2019-10-06_23-18-54klgp__ke&experiment= HTTP/1.1\u001b[0m\" 200 -\n",
      "I1007 00:05:02.578799 140481400928000 _internal.py:122] ::ffff:127.0.0.1 - - [07/Oct/2019 00:05:02] \"\u001b[37mGET /data/plugin/scalars/scalars?tag=ray%2Ftune%2Finfo%2Flearner%2Fdefault_policy%2Fkl&run=PPO_WaveAttenuationPOEnv-v0_0_2019-10-06_23-59-29h06wzir3&experiment= HTTP/1.1\u001b[0m\" 200 -\n",
      "I1007 00:05:02.581799 140481627408128 _internal.py:122] ::ffff:127.0.0.1 - - [07/Oct/2019 00:05:02] \"\u001b[37mGET /data/plugin/scalars/scalars?tag=ray%2Ftune%2Finfo%2Flearner%2Fdefault_policy%2Fpolicy_loss&run=PPO_WaveAttenuationPOEnv-v0_0_2019-10-06_23-07-079nsv_a4k&experiment= HTTP/1.1\u001b[0m\" 200 -\n",
      "I1007 00:05:02.584685 140481635800832 _internal.py:122] ::ffff:127.0.0.1 - - [07/Oct/2019 00:05:02] \"\u001b[37mGET /data/plugin/scalars/scalars?tag=ray%2Ftune%2Finfo%2Flearner%2Fdefault_policy%2Fpolicy_loss&run=PPO_WaveAttenuationPOEnv-v0_0_2019-10-06_23-18-54klgp__ke&experiment= HTTP/1.1\u001b[0m\" 200 -\n",
      "I1007 00:05:02.607632 140481619015424 _internal.py:122] ::ffff:127.0.0.1 - - [07/Oct/2019 00:05:02] \"\u001b[37mGET /data/plugin/scalars/scalars?tag=ray%2Ftune%2Finfo%2Flearner%2Fdefault_policy%2Fpolicy_loss&run=PPO_WaveAttenuationPOEnv-v0_0_2019-10-06_23-59-29h06wzir3&experiment= HTTP/1.1\u001b[0m\" 200 -\n"
     ]
    },
    {
     "name": "stdout",
     "output_type": "stream",
     "text": [
      "I1007 00:05:02.616505 140481384142592 _internal.py:122] ::ffff:127.0.0.1 - - [07/Oct/2019 00:05:02] \"\u001b[37mGET /data/plugin/scalars/scalars?tag=ray%2Ftune%2Finfo%2Flearner%2Fdefault_policy%2Ftotal_loss&run=PPO_WaveAttenuationPOEnv-v0_0_2019-10-06_23-07-079nsv_a4k&experiment= HTTP/1.1\u001b[0m\" 200 -\n",
      "I1007 00:05:02.623020 140481751508736 _internal.py:122] ::ffff:127.0.0.1 - - [07/Oct/2019 00:05:02] \"\u001b[37mGET /data/plugin/scalars/scalars?tag=ray%2Ftune%2Finfo%2Flearner%2Fdefault_policy%2Ftotal_loss&run=PPO_WaveAttenuationPOEnv-v0_0_2019-10-06_23-18-54klgp__ke&experiment= HTTP/1.1\u001b[0m\" 200 -\n",
      "I1007 00:05:02.627229 140481400928000 _internal.py:122] ::ffff:127.0.0.1 - - [07/Oct/2019 00:05:02] \"\u001b[37mGET /data/plugin/scalars/scalars?tag=ray%2Ftune%2Finfo%2Flearner%2Fdefault_policy%2Ftotal_loss&run=PPO_WaveAttenuationPOEnv-v0_0_2019-10-06_23-59-29h06wzir3&experiment= HTTP/1.1\u001b[0m\" 200 -\n",
      "I1007 00:05:02.631619 140481627408128 _internal.py:122] ::ffff:127.0.0.1 - - [07/Oct/2019 00:05:02] \"\u001b[37mGET /data/plugin/scalars/scalars?tag=ray%2Ftune%2Finfo%2Flearner%2Fdefault_policy%2Fvf_explained_var&run=PPO_WaveAttenuationPOEnv-v0_0_2019-10-06_23-18-54klgp__ke&experiment= HTTP/1.1\u001b[0m\" 200 -\n",
      "I1007 00:05:02.632151 140481635800832 _internal.py:122] ::ffff:127.0.0.1 - - [07/Oct/2019 00:05:02] \"\u001b[37mGET /data/plugin/scalars/scalars?tag=ray%2Ftune%2Finfo%2Flearner%2Fdefault_policy%2Fvf_explained_var&run=PPO_WaveAttenuationPOEnv-v0_0_2019-10-06_23-07-079nsv_a4k&experiment= HTTP/1.1\u001b[0m\" 200 -\n",
      "I1007 00:05:02.651540 140481619015424 _internal.py:122] ::ffff:127.0.0.1 - - [07/Oct/2019 00:05:02] \"\u001b[37mGET /data/plugin/scalars/scalars?tag=ray%2Ftune%2Finfo%2Flearner%2Fdefault_policy%2Fvf_explained_var&run=PPO_WaveAttenuationPOEnv-v0_0_2019-10-06_23-59-29h06wzir3&experiment= HTTP/1.1\u001b[0m\" 200 -\n",
      "I1007 00:05:02.663195 140481384142592 _internal.py:122] ::ffff:127.0.0.1 - - [07/Oct/2019 00:05:02] \"\u001b[37mGET /data/plugin/scalars/scalars?tag=ray%2Ftune%2Finfo%2Flearner%2Fdefault_policy%2Fvf_loss&run=PPO_WaveAttenuationPOEnv-v0_0_2019-10-06_23-07-079nsv_a4k&experiment= HTTP/1.1\u001b[0m\" 200 -\n",
      "I1007 00:05:02.668910 140481751508736 _internal.py:122] ::ffff:127.0.0.1 - - [07/Oct/2019 00:05:02] \"\u001b[37mGET /data/plugin/scalars/scalars?tag=ray%2Ftune%2Finfo%2Flearner%2Fdefault_policy%2Fvf_loss&run=PPO_WaveAttenuationPOEnv-v0_0_2019-10-06_23-18-54klgp__ke&experiment= HTTP/1.1\u001b[0m\" 200 -\n",
      "I1007 00:05:02.682799 140481400928000 _internal.py:122] ::ffff:127.0.0.1 - - [07/Oct/2019 00:05:02] \"\u001b[37mGET /data/plugin/scalars/scalars?tag=ray%2Ftune%2Finfo%2Flearner%2Fdefault_policy%2Fvf_loss&run=PPO_WaveAttenuationPOEnv-v0_0_2019-10-06_23-59-29h06wzir3&experiment= HTTP/1.1\u001b[0m\" 200 -\n",
      "I1007 00:05:02.685126 140481627408128 _internal.py:122] ::ffff:127.0.0.1 - - [07/Oct/2019 00:05:02] \"\u001b[37mGET /data/plugin/scalars/scalars?tag=ray%2Ftune%2Finfo%2Fload_time_ms&run=PPO_WaveAttenuationPOEnv-v0_0_2019-10-06_23-18-54klgp__ke&experiment= HTTP/1.1\u001b[0m\" 200 -\n",
      "I1007 00:05:02.685543 140481635800832 _internal.py:122] ::ffff:127.0.0.1 - - [07/Oct/2019 00:05:02] \"\u001b[37mGET /data/plugin/scalars/scalars?tag=ray%2Ftune%2Finfo%2Fload_time_ms&run=PPO_WaveAttenuationPOEnv-v0_0_2019-10-06_23-07-079nsv_a4k&experiment= HTTP/1.1\u001b[0m\" 200 -\n",
      "I1007 00:05:02.696106 140481619015424 _internal.py:122] ::ffff:127.0.0.1 - - [07/Oct/2019 00:05:02] \"\u001b[37mGET /data/plugin/scalars/scalars?tag=ray%2Ftune%2Ftraining_iteration&run=PPO_WaveAttenuationPOEnv-v0_0_2019-10-06_23-59-29h06wzir3&experiment= HTTP/1.1\u001b[0m\" 200 -\n",
      "I1007 00:05:02.712187 140481751508736 _internal.py:122] ::ffff:127.0.0.1 - - [07/Oct/2019 00:05:02] \"\u001b[37mGET /data/plugin/scalars/scalars?tag=ray%2Ftune%2Ftraining_iteration&run=PPO_WaveAttenuationPOEnv-v0_0_2019-10-06_23-18-54klgp__ke&experiment= HTTP/1.1\u001b[0m\" 200 -\n",
      "I1007 00:05:02.713000 140481384142592 _internal.py:122] ::ffff:127.0.0.1 - - [07/Oct/2019 00:05:02] \"\u001b[37mGET /data/plugin/scalars/scalars?tag=ray%2Ftune%2Ftraining_iteration&run=PPO_WaveAttenuationPOEnv-v0_0_2019-10-06_23-07-079nsv_a4k&experiment= HTTP/1.1\u001b[0m\" 200 -\n",
      "I1007 00:05:02.727936 140481400928000 _internal.py:122] ::ffff:127.0.0.1 - - [07/Oct/2019 00:05:02] \"\u001b[37mGET /data/plugin/scalars/scalars?tag=ray%2Ftune%2Ftimesteps_total&run=PPO_WaveAttenuationPOEnv-v0_0_2019-10-06_23-59-29h06wzir3&experiment= HTTP/1.1\u001b[0m\" 200 -\n",
      "I1007 00:05:02.728169 140481627408128 _internal.py:122] ::ffff:127.0.0.1 - - [07/Oct/2019 00:05:02] \"\u001b[37mGET /data/plugin/scalars/scalars?tag=ray%2Ftune%2Ftimesteps_total&run=PPO_WaveAttenuationPOEnv-v0_0_2019-10-06_23-18-54klgp__ke&experiment= HTTP/1.1\u001b[0m\" 200 -\n",
      "I1007 00:05:02.731272 140481635800832 _internal.py:122] ::ffff:127.0.0.1 - - [07/Oct/2019 00:05:02] \"\u001b[37mGET /data/plugin/scalars/scalars?tag=ray%2Ftune%2Ftimesteps_total&run=PPO_WaveAttenuationPOEnv-v0_0_2019-10-06_23-07-079nsv_a4k&experiment= HTTP/1.1\u001b[0m\" 200 -\n",
      "I1007 00:05:02.739412 140481619015424 _internal.py:122] ::ffff:127.0.0.1 - - [07/Oct/2019 00:05:02] \"\u001b[37mGET /data/plugin/scalars/scalars?tag=ray%2Ftune%2Ftimesteps_this_iter&run=PPO_WaveAttenuationPOEnv-v0_0_2019-10-06_23-59-29h06wzir3&experiment= HTTP/1.1\u001b[0m\" 200 -\n",
      "I1007 00:05:02.755529 140481384142592 _internal.py:122] ::ffff:127.0.0.1 - - [07/Oct/2019 00:05:02] \"\u001b[37mGET /data/plugin/scalars/scalars?tag=ray%2Ftune%2Ftimesteps_this_iter&run=PPO_WaveAttenuationPOEnv-v0_0_2019-10-06_23-18-54klgp__ke&experiment= HTTP/1.1\u001b[0m\" 200 -\n",
      "I1007 00:05:02.762413 140481751508736 _internal.py:122] ::ffff:127.0.0.1 - - [07/Oct/2019 00:05:02] \"\u001b[37mGET /data/plugin/scalars/scalars?tag=ray%2Ftune%2Ftimesteps_this_iter&run=PPO_WaveAttenuationPOEnv-v0_0_2019-10-06_23-07-079nsv_a4k&experiment= HTTP/1.1\u001b[0m\" 200 -\n",
      "I1007 00:05:02.775289 140481400928000 _internal.py:122] ::ffff:127.0.0.1 - - [07/Oct/2019 00:05:02] \"\u001b[37mGET /data/plugin/scalars/scalars?tag=ray%2Ftune%2Ftimesteps_since_restore&run=PPO_WaveAttenuationPOEnv-v0_0_2019-10-06_23-59-29h06wzir3&experiment= HTTP/1.1\u001b[0m\" 200 -\n",
      "I1007 00:05:02.776747 140481627408128 _internal.py:122] ::ffff:127.0.0.1 - - [07/Oct/2019 00:05:02] \"\u001b[37mGET /data/plugin/scalars/scalars?tag=ray%2Ftune%2Ftimesteps_since_restore&run=PPO_WaveAttenuationPOEnv-v0_0_2019-10-06_23-18-54klgp__ke&experiment= HTTP/1.1\u001b[0m\" 200 -\n",
      "I1007 00:05:02.780589 140481635800832 _internal.py:122] ::ffff:127.0.0.1 - - [07/Oct/2019 00:05:02] \"\u001b[37mGET /data/plugin/scalars/scalars?tag=ray%2Ftune%2Ftimesteps_since_restore&run=PPO_WaveAttenuationPOEnv-v0_0_2019-10-06_23-07-079nsv_a4k&experiment= HTTP/1.1\u001b[0m\" 200 -\n",
      "I1007 00:05:02.784172 140481619015424 _internal.py:122] ::ffff:127.0.0.1 - - [07/Oct/2019 00:05:02] \"\u001b[37mGET /data/plugin/scalars/scalars?tag=ray%2Ftune%2Ftime_this_iter_s&run=PPO_WaveAttenuationPOEnv-v0_0_2019-10-06_23-59-29h06wzir3&experiment= HTTP/1.1\u001b[0m\" 200 -\n",
      "I1007 00:05:02.799667 140481384142592 _internal.py:122] ::ffff:127.0.0.1 - - [07/Oct/2019 00:05:02] \"\u001b[37mGET /data/plugin/scalars/scalars?tag=ray%2Ftune%2Ftime_this_iter_s&run=PPO_WaveAttenuationPOEnv-v0_0_2019-10-06_23-18-54klgp__ke&experiment= HTTP/1.1\u001b[0m\" 200 -\n",
      "I1007 00:05:02.807482 140481751508736 _internal.py:122] ::ffff:127.0.0.1 - - [07/Oct/2019 00:05:02] \"\u001b[37mGET /data/plugin/scalars/scalars?tag=ray%2Ftune%2Ftime_this_iter_s&run=PPO_WaveAttenuationPOEnv-v0_0_2019-10-06_23-07-079nsv_a4k&experiment= HTTP/1.1\u001b[0m\" 200 -\n",
      "I1007 00:05:02.823363 140481627408128 _internal.py:122] ::ffff:127.0.0.1 - - [07/Oct/2019 00:05:02] \"\u001b[37mGET /data/plugin/scalars/scalars?tag=ray%2Ftune%2Ftime_since_restore&run=PPO_WaveAttenuationPOEnv-v0_0_2019-10-06_23-18-54klgp__ke&experiment= HTTP/1.1\u001b[0m\" 200 -\n",
      "I1007 00:05:02.824537 140481400928000 _internal.py:122] ::ffff:127.0.0.1 - - [07/Oct/2019 00:05:02] \"\u001b[37mGET /data/plugin/scalars/scalars?tag=ray%2Ftune%2Ftime_since_restore&run=PPO_WaveAttenuationPOEnv-v0_0_2019-10-06_23-59-29h06wzir3&experiment= HTTP/1.1\u001b[0m\" 200 -\n",
      "I1007 00:05:02.829216 140481635800832 _internal.py:122] ::ffff:127.0.0.1 - - [07/Oct/2019 00:05:02] \"\u001b[37mGET /data/plugin/scalars/scalars?tag=ray%2Ftune%2Ftime_since_restore&run=PPO_WaveAttenuationPOEnv-v0_0_2019-10-06_23-07-079nsv_a4k&experiment= HTTP/1.1\u001b[0m\" 200 -\n",
      "I1007 00:05:02.832946 140481619015424 _internal.py:122] ::ffff:127.0.0.1 - - [07/Oct/2019 00:05:02] \"\u001b[37mGET /data/plugin/scalars/scalars?tag=ray%2Ftune%2Fsampler_perf%2Fmean_processing_ms&run=PPO_WaveAttenuationPOEnv-v0_0_2019-10-06_23-59-29h06wzir3&experiment= HTTP/1.1\u001b[0m\" 200 -\n",
      "I1007 00:05:02.844503 140481384142592 _internal.py:122] ::ffff:127.0.0.1 - - [07/Oct/2019 00:05:02] \"\u001b[37mGET /data/plugin/scalars/scalars?tag=ray%2Ftune%2Fsampler_perf%2Fmean_processing_ms&run=PPO_WaveAttenuationPOEnv-v0_0_2019-10-06_23-18-54klgp__ke&experiment= HTTP/1.1\u001b[0m\" 200 -\n",
      "I1007 00:05:02.851729 140481751508736 _internal.py:122] ::ffff:127.0.0.1 - - [07/Oct/2019 00:05:02] \"\u001b[37mGET /data/plugin/scalars/scalars?tag=ray%2Ftune%2Fsampler_perf%2Fmean_processing_ms&run=PPO_WaveAttenuationPOEnv-v0_0_2019-10-06_23-07-079nsv_a4k&experiment= HTTP/1.1\u001b[0m\" 200 -\n",
      "I1007 00:05:02.867552 140481627408128 _internal.py:122] ::ffff:127.0.0.1 - - [07/Oct/2019 00:05:02] \"\u001b[37mGET /data/plugin/scalars/scalars?tag=ray%2Ftune%2Fsampler_perf%2Fmean_inference_ms&run=PPO_WaveAttenuationPOEnv-v0_0_2019-10-06_23-59-29h06wzir3&experiment= HTTP/1.1\u001b[0m\" 200 -\n"
     ]
    },
    {
     "name": "stdout",
     "output_type": "stream",
     "text": [
      "I1007 00:05:02.871551 140481400928000 _internal.py:122] ::ffff:127.0.0.1 - - [07/Oct/2019 00:05:02] \"\u001b[37mGET /data/plugin/scalars/scalars?tag=ray%2Ftune%2Fsampler_perf%2Fmean_inference_ms&run=PPO_WaveAttenuationPOEnv-v0_0_2019-10-06_23-18-54klgp__ke&experiment= HTTP/1.1\u001b[0m\" 200 -\n",
      "I1007 00:05:02.876382 140481619015424 _internal.py:122] ::ffff:127.0.0.1 - - [07/Oct/2019 00:05:02] \"\u001b[37mGET /data/plugin/scalars/scalars?tag=ray%2Ftune%2Fsampler_perf%2Fmean_env_wait_ms&run=PPO_WaveAttenuationPOEnv-v0_0_2019-10-06_23-59-29h06wzir3&experiment= HTTP/1.1\u001b[0m\" 200 -\n",
      "I1007 00:05:02.876719 140481635800832 _internal.py:122] ::ffff:127.0.0.1 - - [07/Oct/2019 00:05:02] \"\u001b[37mGET /data/plugin/scalars/scalars?tag=ray%2Ftune%2Fsampler_perf%2Fmean_inference_ms&run=PPO_WaveAttenuationPOEnv-v0_0_2019-10-06_23-07-079nsv_a4k&experiment= HTTP/1.1\u001b[0m\" 200 -\n",
      "I1007 00:05:02.887591 140481384142592 _internal.py:122] ::ffff:127.0.0.1 - - [07/Oct/2019 00:05:02] \"\u001b[37mGET /data/plugin/scalars/scalars?tag=ray%2Ftune%2Fsampler_perf%2Fmean_env_wait_ms&run=PPO_WaveAttenuationPOEnv-v0_0_2019-10-06_23-18-54klgp__ke&experiment= HTTP/1.1\u001b[0m\" 200 -\n",
      "I1007 00:05:02.895448 140481751508736 _internal.py:122] ::ffff:127.0.0.1 - - [07/Oct/2019 00:05:02] \"\u001b[37mGET /data/plugin/scalars/scalars?tag=ray%2Ftune%2Fsampler_perf%2Fmean_env_wait_ms&run=PPO_WaveAttenuationPOEnv-v0_0_2019-10-06_23-07-079nsv_a4k&experiment= HTTP/1.1\u001b[0m\" 200 -\n",
      "I1007 00:05:02.911764 140481627408128 _internal.py:122] ::ffff:127.0.0.1 - - [07/Oct/2019 00:05:02] \"\u001b[37mGET /data/plugin/scalars/scalars?tag=ray%2Ftune%2Fperf%2Fram_util_percent&run=PPO_WaveAttenuationPOEnv-v0_0_2019-10-06_23-59-29h06wzir3&experiment= HTTP/1.1\u001b[0m\" 200 -\n",
      "I1007 00:05:02.915633 140481400928000 _internal.py:122] ::ffff:127.0.0.1 - - [07/Oct/2019 00:05:02] \"\u001b[37mGET /data/plugin/scalars/scalars?tag=ray%2Ftune%2Fperf%2Fram_util_percent&run=PPO_WaveAttenuationPOEnv-v0_0_2019-10-06_23-18-54klgp__ke&experiment= HTTP/1.1\u001b[0m\" 200 -\n",
      "I1007 00:05:02.920457 140481619015424 _internal.py:122] ::ffff:127.0.0.1 - - [07/Oct/2019 00:05:02] \"\u001b[37mGET /data/plugin/scalars/scalars?tag=ray%2Ftune%2Fperf%2Fcpu_util_percent&run=PPO_WaveAttenuationPOEnv-v0_0_2019-10-06_23-59-29h06wzir3&experiment= HTTP/1.1\u001b[0m\" 200 -\n",
      "I1007 00:05:02.920687 140481635800832 _internal.py:122] ::ffff:127.0.0.1 - - [07/Oct/2019 00:05:02] \"\u001b[37mGET /data/plugin/scalars/scalars?tag=ray%2Ftune%2Fperf%2Fram_util_percent&run=PPO_WaveAttenuationPOEnv-v0_0_2019-10-06_23-07-079nsv_a4k&experiment= HTTP/1.1\u001b[0m\" 200 -\n",
      "I1007 00:05:02.935611 140481384142592 _internal.py:122] ::ffff:127.0.0.1 - - [07/Oct/2019 00:05:02] \"\u001b[37mGET /data/plugin/scalars/scalars?tag=ray%2Ftune%2Fperf%2Fcpu_util_percent&run=PPO_WaveAttenuationPOEnv-v0_0_2019-10-06_23-18-54klgp__ke&experiment= HTTP/1.1\u001b[0m\" 200 -\n",
      "I1007 00:05:02.941663 140481751508736 _internal.py:122] ::ffff:127.0.0.1 - - [07/Oct/2019 00:05:02] \"\u001b[37mGET /data/plugin/scalars/scalars?tag=ray%2Ftune%2Fperf%2Fcpu_util_percent&run=PPO_WaveAttenuationPOEnv-v0_0_2019-10-06_23-07-079nsv_a4k&experiment= HTTP/1.1\u001b[0m\" 200 -\n",
      "I1007 00:05:02.955831 140481627408128 _internal.py:122] ::ffff:127.0.0.1 - - [07/Oct/2019 00:05:02] \"\u001b[37mGET /data/plugin/scalars/scalars?tag=ray%2Ftune%2Fnum_healthy_workers&run=PPO_WaveAttenuationPOEnv-v0_0_2019-10-06_23-59-29h06wzir3&experiment= HTTP/1.1\u001b[0m\" 200 -\n",
      "I1007 00:05:02.965350 140481400928000 _internal.py:122] ::ffff:127.0.0.1 - - [07/Oct/2019 00:05:02] \"\u001b[37mGET /data/plugin/scalars/scalars?tag=ray%2Ftune%2Fnum_healthy_workers&run=PPO_WaveAttenuationPOEnv-v0_0_2019-10-06_23-18-54klgp__ke&experiment= HTTP/1.1\u001b[0m\" 200 -\n",
      "I1007 00:05:02.965551 140481619015424 _internal.py:122] ::ffff:127.0.0.1 - - [07/Oct/2019 00:05:02] \"\u001b[37mGET /data/plugin/scalars/scalars?tag=ray%2Ftune%2Fnum_healthy_workers&run=PPO_WaveAttenuationPOEnv-v0_0_2019-10-06_23-07-079nsv_a4k&experiment= HTTP/1.1\u001b[0m\" 200 -\n",
      "I1007 00:05:02.965691 140481635800832 _internal.py:122] ::ffff:127.0.0.1 - - [07/Oct/2019 00:05:02] \"\u001b[37mGET /data/plugin/scalars/scalars?tag=ray%2Ftune%2Fiterations_since_restore&run=PPO_WaveAttenuationPOEnv-v0_0_2019-10-06_23-59-29h06wzir3&experiment= HTTP/1.1\u001b[0m\" 200 -\n",
      "I1007 00:05:02.979569 140481384142592 _internal.py:122] ::ffff:127.0.0.1 - - [07/Oct/2019 00:05:02] \"\u001b[37mGET /data/plugin/scalars/scalars?tag=ray%2Ftune%2Fiterations_since_restore&run=PPO_WaveAttenuationPOEnv-v0_0_2019-10-06_23-18-54klgp__ke&experiment= HTTP/1.1\u001b[0m\" 200 -\n",
      "I1007 00:05:02.987473 140481751508736 _internal.py:122] ::ffff:127.0.0.1 - - [07/Oct/2019 00:05:02] \"\u001b[37mGET /data/plugin/scalars/scalars?tag=ray%2Ftune%2Fiterations_since_restore&run=PPO_WaveAttenuationPOEnv-v0_0_2019-10-06_23-07-079nsv_a4k&experiment= HTTP/1.1\u001b[0m\" 200 -\n",
      "I1007 00:05:03.006579 140481627408128 _internal.py:122] ::ffff:127.0.0.1 - - [07/Oct/2019 00:05:03] \"\u001b[37mGET /data/plugin/scalars/scalars?tag=ray%2Ftune%2Finfo%2Fupdate_time_ms&run=PPO_WaveAttenuationPOEnv-v0_0_2019-10-06_23-59-29h06wzir3&experiment= HTTP/1.1\u001b[0m\" 200 -\n",
      "I1007 00:05:03.014888 140481619015424 _internal.py:122] ::ffff:127.0.0.1 - - [07/Oct/2019 00:05:03] \"\u001b[37mGET /data/plugin/scalars/scalars?tag=ray%2Ftune%2Finfo%2Fupdate_time_ms&run=PPO_WaveAttenuationPOEnv-v0_0_2019-10-06_23-18-54klgp__ke&experiment= HTTP/1.1\u001b[0m\" 200 -\n",
      "I1007 00:05:03.017332 140481400928000 _internal.py:122] ::ffff:127.0.0.1 - - [07/Oct/2019 00:05:03] \"\u001b[37mGET /data/plugin/scalars/scalars?tag=ray%2Ftune%2Finfo%2Fupdate_time_ms&run=PPO_WaveAttenuationPOEnv-v0_0_2019-10-06_23-07-079nsv_a4k&experiment= HTTP/1.1\u001b[0m\" 200 -\n",
      "I1007 00:05:03.017866 140481635800832 _internal.py:122] ::ffff:127.0.0.1 - - [07/Oct/2019 00:05:03] \"\u001b[37mGET /data/plugin/scalars/scalars?tag=ray%2Ftune%2Finfo%2Fsample_time_ms&run=PPO_WaveAttenuationPOEnv-v0_0_2019-10-06_23-59-29h06wzir3&experiment= HTTP/1.1\u001b[0m\" 200 -\n",
      "I1007 00:05:03.027841 140481384142592 _internal.py:122] ::ffff:127.0.0.1 - - [07/Oct/2019 00:05:03] \"\u001b[37mGET /data/plugin/scalars/scalars?tag=ray%2Ftune%2Finfo%2Fsample_time_ms&run=PPO_WaveAttenuationPOEnv-v0_0_2019-10-06_23-18-54klgp__ke&experiment= HTTP/1.1\u001b[0m\" 200 -\n",
      "I1007 00:05:03.035590 140481751508736 _internal.py:122] ::ffff:127.0.0.1 - - [07/Oct/2019 00:05:03] \"\u001b[37mGET /data/plugin/scalars/scalars?tag=ray%2Ftune%2Finfo%2Fsample_time_ms&run=PPO_WaveAttenuationPOEnv-v0_0_2019-10-06_23-07-079nsv_a4k&experiment= HTTP/1.1\u001b[0m\" 200 -\n",
      "I1007 00:05:03.053199 140481627408128 _internal.py:122] ::ffff:127.0.0.1 - - [07/Oct/2019 00:05:03] \"\u001b[37mGET /data/plugin/scalars/scalars?tag=ray%2Ftune%2Finfo%2Fnum_steps_trained&run=PPO_WaveAttenuationPOEnv-v0_0_2019-10-06_23-59-29h06wzir3&experiment= HTTP/1.1\u001b[0m\" 200 -\n",
      "I1007 00:05:03.061182 140481400928000 _internal.py:122] ::ffff:127.0.0.1 - - [07/Oct/2019 00:05:03] \"\u001b[37mGET /data/plugin/scalars/scalars?tag=ray%2Ftune%2Finfo%2Fnum_steps_trained&run=PPO_WaveAttenuationPOEnv-v0_0_2019-10-06_23-18-54klgp__ke&experiment= HTTP/1.1\u001b[0m\" 200 -\n",
      "I1007 00:05:03.061367 140481635800832 _internal.py:122] ::ffff:127.0.0.1 - - [07/Oct/2019 00:05:03] \"\u001b[37mGET /data/plugin/scalars/scalars?tag=ray%2Ftune%2Finfo%2Fnum_steps_trained&run=PPO_WaveAttenuationPOEnv-v0_0_2019-10-06_23-07-079nsv_a4k&experiment= HTTP/1.1\u001b[0m\" 200 -\n",
      "I1007 00:05:03.064143 140481619015424 _internal.py:122] ::ffff:127.0.0.1 - - [07/Oct/2019 00:05:03] \"\u001b[37mGET /data/plugin/scalars/scalars?tag=ray%2Ftune%2Finfo%2Fnum_steps_sampled&run=PPO_WaveAttenuationPOEnv-v0_0_2019-10-06_23-59-29h06wzir3&experiment= HTTP/1.1\u001b[0m\" 200 -\n",
      "I1007 00:05:03.071565 140481384142592 _internal.py:122] ::ffff:127.0.0.1 - - [07/Oct/2019 00:05:03] \"\u001b[37mGET /data/plugin/scalars/scalars?tag=ray%2Ftune%2Finfo%2Fnum_steps_sampled&run=PPO_WaveAttenuationPOEnv-v0_0_2019-10-06_23-18-54klgp__ke&experiment= HTTP/1.1\u001b[0m\" 200 -\n",
      "I1007 00:05:03.083220 140481751508736 _internal.py:122] ::ffff:127.0.0.1 - - [07/Oct/2019 00:05:03] \"\u001b[37mGET /data/plugin/scalars/scalars?tag=ray%2Ftune%2Finfo%2Fnum_steps_sampled&run=PPO_WaveAttenuationPOEnv-v0_0_2019-10-06_23-07-079nsv_a4k&experiment= HTTP/1.1\u001b[0m\" 200 -\n",
      "I1007 00:05:03.096872 140481627408128 _internal.py:122] ::ffff:127.0.0.1 - - [07/Oct/2019 00:05:03] \"\u001b[37mGET /data/plugin/scalars/scalars?tag=ray%2Ftune%2Finfo%2Fload_time_ms&run=PPO_WaveAttenuationPOEnv-v0_0_2019-10-06_23-59-29h06wzir3&experiment= HTTP/1.1\u001b[0m\" 200 -\n"
     ]
    },
    {
     "name": "stdout",
     "output_type": "stream",
     "text": [
      "^C\r\n"
     ]
    }
   ],
   "source": [
    "#! tensorboard --logdir= ray_results/experiment_dir/result/directory\n",
    "! tensorboard --logdir=~/ray_results/training_example"
   ]
  },
  {
   "cell_type": "markdown",
   "metadata": {},
   "source": [
    "If you do not wish to use `tensorboard`, you can also use the `flow/visualize/plot_ray_results.py` file. It takes as arguments the path to the `progress.csv` file located inside your experiment results directory, and the name(s) of the column(s) to plot. If you do not know what the name of the columns are, simply do not put any and a list of all available columns will be displayed to you. \n",
    "\n",
    "Example usage:"
   ]
  },
  {
   "cell_type": "code",
   "execution_count": 8,
   "metadata": {},
   "outputs": [
    {
     "name": "stdout",
     "output_type": "stream",
     "text": [
      "/bin/sh: 1: plot_ray_results.py: not found\r\n"
     ]
    }
   ],
   "source": [
    "! plot_ray_results.py /ray_results/experiment_dir/progress.csv training/return-average training/return-min"
   ]
  },
  {
   "cell_type": "markdown",
   "metadata": {},
   "source": [
    "### Replaying a Trained Policy"
   ]
  },
  {
   "cell_type": "markdown",
   "metadata": {},
   "source": [
    "The tool to replay a policy trained using RLlib is located in `flow/visualize/visualizer_rllib.py`. It takes as argument, first the path to the experiment results, and second the number of the checkpoint you wish to visualize. \n",
    "\n",
    "There are other optional parameters which you can learn about by running `visualizer_rllib.py --help`. "
   ]
  },
  {
   "cell_type": "code",
   "execution_count": 4,
   "metadata": {},
   "outputs": [
    {
     "name": "stdout",
     "output_type": "stream",
     "text": [
      "WARNING:tensorflow:From /home/nick/anaconda3/envs/flow/lib/python3.6/site-packages/tensorflow/python/compat/v2_compat.py:61: disable_resource_variables (from tensorflow.python.ops.variable_scope) is deprecated and will be removed in a future version.\n",
      "Instructions for updating:\n",
      "non-resource variables are not supported in the long term\n",
      "2019-10-08 10:36:54,181\tINFO node.py:498 -- Process STDOUT and STDERR is being redirected to /tmp/ray/session_2019-10-08_10-36-54_181442_12857/logs.\n",
      "2019-10-08 10:36:54,294\tINFO services.py:409 -- Waiting for redis server at 127.0.0.1:48977 to respond...\n",
      "2019-10-08 10:36:54,402\tINFO services.py:409 -- Waiting for redis server at 127.0.0.1:35635 to respond...\n",
      "2019-10-08 10:36:54,406\tINFO services.py:809 -- Starting Redis shard with 3.28 GB max memory.\n",
      "2019-10-08 10:36:54,443\tINFO node.py:512 -- Process STDOUT and STDERR is being redirected to /tmp/ray/session_2019-10-08_10-36-54_181442_12857/logs.\n",
      "2019-10-08 10:36:54,445\tWARNING services.py:1330 -- WARNING: The default object store size of 4.92 GB will use more than 50% of the available memory on this node (7.64 GB). Consider setting the object store memory manually to a smaller size to avoid memory contention with other applications.\n",
      "2019-10-08 10:36:54,445\tINFO services.py:1475 -- Starting the Plasma object store with 4.92 GB memory using /dev/shm.\n",
      "NOTE: With render mode sumo_gui, an extra instance of the SUMO GUI will display before the GUI for visualizing the result. Click the green Play arrow to continue.\n",
      "WARNING:tensorflow:From /home/nick/anaconda3/envs/flow/lib/python3.6/site-packages/ray/tune/logger.py:133: The name tf.VERSION is deprecated. Please use tf.version.VERSION instead.\n",
      "\n",
      "WARNING:tensorflow:From /home/nick/anaconda3/envs/flow/lib/python3.6/site-packages/ray/tune/logger.py:138: The name tf.summary.FileWriter is deprecated. Please use tf.compat.v1.summary.FileWriter instead.\n",
      "\n",
      "2019-10-08 10:36:54,527\tERROR log_sync.py:34 -- Log sync requires cluster to be setup with `ray up`.\n",
      "2019-10-08 10:36:54,546\tWARNING ppo.py:143 -- FYI: By default, the value function will not share layers with the policy model ('vf_share_layers': False).\n",
      "Loading configuration... done.\n",
      "Success.\n",
      "Loading configuration... done.\n",
      "2019-10-08 10:36:57,230\tINFO rollout_worker.py:319 -- Creating policy evaluation worker 0 on CPU (please ignore any CUDA init errors)\n",
      "2019-10-08 10:36:57.233374: I tensorflow/core/platform/cpu_feature_guard.cc:145] This TensorFlow binary is optimized with Intel(R) MKL-DNN to use the following CPU instructions in performance critical operations:  SSE4.1 SSE4.2 AVX AVX2 FMA\n",
      "To enable them in non-MKL-DNN operations, rebuild TensorFlow with the appropriate compiler flags.\n",
      "2019-10-08 10:36:57.271164: I tensorflow/core/platform/profile_utils/cpu_utils.cc:94] CPU Frequency: 2592000000 Hz\n",
      "2019-10-08 10:36:57.272602: I tensorflow/compiler/xla/service/service.cc:168] XLA service 0x560712f012f0 executing computations on platform Host. Devices:\n",
      "2019-10-08 10:36:57.272638: I tensorflow/compiler/xla/service/service.cc:175]   StreamExecutor device (0): <undefined>, <undefined>\n",
      "WARNING:tensorflow:From /home/nick/anaconda3/envs/flow/lib/python3.6/site-packages/ray/rllib/models/tf/fcnet_v1.py:48: dense (from tensorflow.python.layers.core) is deprecated and will be removed in a future version.\n",
      "Instructions for updating:\n",
      "Use keras.layers.dense instead.\n",
      "WARNING:tensorflow:From /home/nick/anaconda3/envs/flow/lib/python3.6/site-packages/ray/rllib/models/tf/fcnet_v1.py:48: dense (from tensorflow.python.layers.core) is deprecated and will be removed in a future version.\n",
      "Instructions for updating:\n",
      "Use keras.layers.dense instead.\n",
      "WARNING:tensorflow:Entity <bound method Dense.call of <tensorflow.python.layers.core.Dense object at 0x7f34f2a56ac8>> could not be transformed and will be executed as-is. Please report this to the AutgoGraph team. When filing the bug, set the verbosity to 10 (on Linux, `export AUTOGRAPH_VERBOSITY=10`) and attach the full output. Cause: converting <bound method Dense.call of <tensorflow.python.layers.core.Dense object at 0x7f34f2a56ac8>>: AssertionError: Bad argument number for Name: 3, expecting 4\n",
      "WARNING:tensorflow:Entity <bound method Dense.call of <tensorflow.python.layers.core.Dense object at 0x7f34f2a56ac8>> could not be transformed and will be executed as-is. Please report this to the AutgoGraph team. When filing the bug, set the verbosity to 10 (on Linux, `export AUTOGRAPH_VERBOSITY=10`) and attach the full output. Cause: converting <bound method Dense.call of <tensorflow.python.layers.core.Dense object at 0x7f34f2a56ac8>>: AssertionError: Bad argument number for Name: 3, expecting 4\n",
      "WARNING:tensorflow:Entity <bound method Dense.call of <tensorflow.python.layers.core.Dense object at 0x7f34f2a56b70>> could not be transformed and will be executed as-is. Please report this to the AutgoGraph team. When filing the bug, set the verbosity to 10 (on Linux, `export AUTOGRAPH_VERBOSITY=10`) and attach the full output. Cause: converting <bound method Dense.call of <tensorflow.python.layers.core.Dense object at 0x7f34f2a56b70>>: AssertionError: Bad argument number for Name: 3, expecting 4\n",
      "WARNING:tensorflow:Entity <bound method Dense.call of <tensorflow.python.layers.core.Dense object at 0x7f34f2a56b70>> could not be transformed and will be executed as-is. Please report this to the AutgoGraph team. When filing the bug, set the verbosity to 10 (on Linux, `export AUTOGRAPH_VERBOSITY=10`) and attach the full output. Cause: converting <bound method Dense.call of <tensorflow.python.layers.core.Dense object at 0x7f34f2a56b70>>: AssertionError: Bad argument number for Name: 3, expecting 4\n",
      "WARNING:tensorflow:Entity <bound method Dense.call of <tensorflow.python.layers.core.Dense object at 0x7f34975be9b0>> could not be transformed and will be executed as-is. Please report this to the AutgoGraph team. When filing the bug, set the verbosity to 10 (on Linux, `export AUTOGRAPH_VERBOSITY=10`) and attach the full output. Cause: converting <bound method Dense.call of <tensorflow.python.layers.core.Dense object at 0x7f34975be9b0>>: AssertionError: Bad argument number for Name: 3, expecting 4\n",
      "WARNING:tensorflow:Entity <bound method Dense.call of <tensorflow.python.layers.core.Dense object at 0x7f34975be9b0>> could not be transformed and will be executed as-is. Please report this to the AutgoGraph team. When filing the bug, set the verbosity to 10 (on Linux, `export AUTOGRAPH_VERBOSITY=10`) and attach the full output. Cause: converting <bound method Dense.call of <tensorflow.python.layers.core.Dense object at 0x7f34975be9b0>>: AssertionError: Bad argument number for Name: 3, expecting 4\n",
      "WARNING:tensorflow:From /home/nick/anaconda3/envs/flow/lib/python3.6/site-packages/ray/rllib/models/tf/tf_action_dist.py:138: to_float (from tensorflow.python.ops.math_ops) is deprecated and will be removed in a future version.\n",
      "Instructions for updating:\n",
      "Use `tf.cast` instead.\n",
      "WARNING:tensorflow:From /home/nick/anaconda3/envs/flow/lib/python3.6/site-packages/ray/rllib/models/tf/tf_action_dist.py:138: to_float (from tensorflow.python.ops.math_ops) is deprecated and will be removed in a future version.\n",
      "Instructions for updating:\n",
      "Use `tf.cast` instead.\n",
      "WARNING:tensorflow:Entity <bound method Dense.call of <tensorflow.python.layers.core.Dense object at 0x7f34f1cfe6d8>> could not be transformed and will be executed as-is. Please report this to the AutgoGraph team. When filing the bug, set the verbosity to 10 (on Linux, `export AUTOGRAPH_VERBOSITY=10`) and attach the full output. Cause: converting <bound method Dense.call of <tensorflow.python.layers.core.Dense object at 0x7f34f1cfe6d8>>: AssertionError: Bad argument number for Name: 3, expecting 4\n",
      "WARNING:tensorflow:Entity <bound method Dense.call of <tensorflow.python.layers.core.Dense object at 0x7f34f1cfe6d8>> could not be transformed and will be executed as-is. Please report this to the AutgoGraph team. When filing the bug, set the verbosity to 10 (on Linux, `export AUTOGRAPH_VERBOSITY=10`) and attach the full output. Cause: converting <bound method Dense.call of <tensorflow.python.layers.core.Dense object at 0x7f34f1cfe6d8>>: AssertionError: Bad argument number for Name: 3, expecting 4\n"
     ]
    },
    {
     "name": "stdout",
     "output_type": "stream",
     "text": [
      "WARNING:tensorflow:Entity <bound method Dense.call of <tensorflow.python.layers.core.Dense object at 0x7f34c169e828>> could not be transformed and will be executed as-is. Please report this to the AutgoGraph team. When filing the bug, set the verbosity to 10 (on Linux, `export AUTOGRAPH_VERBOSITY=10`) and attach the full output. Cause: converting <bound method Dense.call of <tensorflow.python.layers.core.Dense object at 0x7f34c169e828>>: AssertionError: Bad argument number for Name: 3, expecting 4\n",
      "WARNING:tensorflow:Entity <bound method Dense.call of <tensorflow.python.layers.core.Dense object at 0x7f34c169e828>> could not be transformed and will be executed as-is. Please report this to the AutgoGraph team. When filing the bug, set the verbosity to 10 (on Linux, `export AUTOGRAPH_VERBOSITY=10`) and attach the full output. Cause: converting <bound method Dense.call of <tensorflow.python.layers.core.Dense object at 0x7f34c169e828>>: AssertionError: Bad argument number for Name: 3, expecting 4\n",
      "WARNING:tensorflow:Entity <bound method Dense.call of <tensorflow.python.layers.core.Dense object at 0x7f34c169e828>> could not be transformed and will be executed as-is. Please report this to the AutgoGraph team. When filing the bug, set the verbosity to 10 (on Linux, `export AUTOGRAPH_VERBOSITY=10`) and attach the full output. Cause: converting <bound method Dense.call of <tensorflow.python.layers.core.Dense object at 0x7f34c169e828>>: AssertionError: Bad argument number for Name: 3, expecting 4\n",
      "WARNING:tensorflow:Entity <bound method Dense.call of <tensorflow.python.layers.core.Dense object at 0x7f34c169e828>> could not be transformed and will be executed as-is. Please report this to the AutgoGraph team. When filing the bug, set the verbosity to 10 (on Linux, `export AUTOGRAPH_VERBOSITY=10`) and attach the full output. Cause: converting <bound method Dense.call of <tensorflow.python.layers.core.Dense object at 0x7f34c169e828>>: AssertionError: Bad argument number for Name: 3, expecting 4\n",
      "2019-10-08 10:36:57.886803: W tensorflow/compiler/jit/mark_for_compilation_pass.cc:1412] (One-time warning): Not using XLA:CPU for cluster because envvar TF_XLA_FLAGS=--tf_xla_cpu_global_jit was not set.  If you want XLA:CPU, either set that envvar, or use experimental_jit_scope to enable XLA:CPU.  To confirm that XLA is active, pass --vmodule=xla_compilation_cache=1 (as a proper command-line flag, not via TF_XLA_FLAGS) or set the envvar XLA_FLAGS=--xla_hlo_profile.\n",
      "2019-10-08 10:36:57,933\tINFO dynamic_tf_policy.py:324 -- Initializing loss function with dummy input:\n",
      "\n",
      "{ 'action_prob': <tf.Tensor 'default_policy/action_prob:0' shape=(?,) dtype=float32>,\n",
      "  'actions': <tf.Tensor 'default_policy/actions:0' shape=(?, 1) dtype=float32>,\n",
      "  'advantages': <tf.Tensor 'default_policy/advantages:0' shape=(?,) dtype=float32>,\n",
      "  'behaviour_logits': <tf.Tensor 'default_policy/behaviour_logits:0' shape=(?, 2) dtype=float32>,\n",
      "  'dones': <tf.Tensor 'default_policy/dones:0' shape=(?,) dtype=bool>,\n",
      "  'new_obs': <tf.Tensor 'default_policy/new_obs:0' shape=(?, 3) dtype=float32>,\n",
      "  'obs': <tf.Tensor 'default_policy/observation:0' shape=(?, 3) dtype=float32>,\n",
      "  'prev_actions': <tf.Tensor 'default_policy/action:0' shape=(?, 1) dtype=float32>,\n",
      "  'prev_rewards': <tf.Tensor 'default_policy/prev_reward:0' shape=(?,) dtype=float32>,\n",
      "  'rewards': <tf.Tensor 'default_policy/rewards:0' shape=(?,) dtype=float32>,\n",
      "  'value_targets': <tf.Tensor 'default_policy/value_targets:0' shape=(?,) dtype=float32>,\n",
      "  'vf_preds': <tf.Tensor 'default_policy/vf_preds:0' shape=(?,) dtype=float32>}\n",
      "\n",
      "WARNING:tensorflow:From /home/nick/anaconda3/envs/flow/lib/python3.6/site-packages/tensorflow/python/ops/array_ops.py:1354: add_dispatch_support.<locals>.wrapper (from tensorflow.python.ops.array_ops) is deprecated and will be removed in a future version.\n",
      "Instructions for updating:\n",
      "Use tf.where in 2.0, which has the same broadcast rule as np.where\n",
      "WARNING:tensorflow:From /home/nick/anaconda3/envs/flow/lib/python3.6/site-packages/tensorflow/python/ops/array_ops.py:1354: add_dispatch_support.<locals>.wrapper (from tensorflow.python.ops.array_ops) is deprecated and will be removed in a future version.\n",
      "Instructions for updating:\n",
      "Use tf.where in 2.0, which has the same broadcast rule as np.where\n",
      "2019-10-08 10:36:58,649\tINFO rollout_worker.py:742 -- Built policy map: {'default_policy': <ray.rllib.policy.tf_policy_template.PPOTFPolicy object at 0x7f34f2a46f28>}\n",
      "2019-10-08 10:36:58,649\tINFO rollout_worker.py:743 -- Built preprocessor map: {'default_policy': <ray.rllib.models.preprocessors.NoPreprocessor object at 0x7f34f2a46e48>}\n",
      "2019-10-08 10:36:58,649\tINFO rollout_worker.py:356 -- Built filter map: {'default_policy': <ray.rllib.utils.filter.NoFilter object at 0x7f34f2a46cf8>}\n",
      "2019-10-08 10:36:58,652\tINFO multi_gpu_optimizer.py:93 -- LocalMultiGPUOptimizer devices ['/cpu:0']\n",
      "WARNING:tensorflow:Entity <bound method Dense.call of <tensorflow.python.layers.core.Dense object at 0x7f3494025be0>> could not be transformed and will be executed as-is. Please report this to the AutgoGraph team. When filing the bug, set the verbosity to 10 (on Linux, `export AUTOGRAPH_VERBOSITY=10`) and attach the full output. Cause: converting <bound method Dense.call of <tensorflow.python.layers.core.Dense object at 0x7f3494025be0>>: AssertionError: Bad argument number for Name: 3, expecting 4\n",
      "WARNING:tensorflow:Entity <bound method Dense.call of <tensorflow.python.layers.core.Dense object at 0x7f3494025be0>> could not be transformed and will be executed as-is. Please report this to the AutgoGraph team. When filing the bug, set the verbosity to 10 (on Linux, `export AUTOGRAPH_VERBOSITY=10`) and attach the full output. Cause: converting <bound method Dense.call of <tensorflow.python.layers.core.Dense object at 0x7f3494025be0>>: AssertionError: Bad argument number for Name: 3, expecting 4\n",
      "WARNING:tensorflow:Entity <bound method Dense.call of <tensorflow.python.layers.core.Dense object at 0x7f3494025ba8>> could not be transformed and will be executed as-is. Please report this to the AutgoGraph team. When filing the bug, set the verbosity to 10 (on Linux, `export AUTOGRAPH_VERBOSITY=10`) and attach the full output. Cause: converting <bound method Dense.call of <tensorflow.python.layers.core.Dense object at 0x7f3494025ba8>>: AssertionError: Bad argument number for Name: 3, expecting 4\n",
      "WARNING:tensorflow:Entity <bound method Dense.call of <tensorflow.python.layers.core.Dense object at 0x7f3494025ba8>> could not be transformed and will be executed as-is. Please report this to the AutgoGraph team. When filing the bug, set the verbosity to 10 (on Linux, `export AUTOGRAPH_VERBOSITY=10`) and attach the full output. Cause: converting <bound method Dense.call of <tensorflow.python.layers.core.Dense object at 0x7f3494025ba8>>: AssertionError: Bad argument number for Name: 3, expecting 4\n",
      "WARNING:tensorflow:Entity <bound method Dense.call of <tensorflow.python.layers.core.Dense object at 0x7f3494025c50>> could not be transformed and will be executed as-is. Please report this to the AutgoGraph team. When filing the bug, set the verbosity to 10 (on Linux, `export AUTOGRAPH_VERBOSITY=10`) and attach the full output. Cause: converting <bound method Dense.call of <tensorflow.python.layers.core.Dense object at 0x7f3494025c50>>: AssertionError: Bad argument number for Name: 3, expecting 4\n",
      "WARNING:tensorflow:Entity <bound method Dense.call of <tensorflow.python.layers.core.Dense object at 0x7f3494025c50>> could not be transformed and will be executed as-is. Please report this to the AutgoGraph team. When filing the bug, set the verbosity to 10 (on Linux, `export AUTOGRAPH_VERBOSITY=10`) and attach the full output. Cause: converting <bound method Dense.call of <tensorflow.python.layers.core.Dense object at 0x7f3494025c50>>: AssertionError: Bad argument number for Name: 3, expecting 4\n",
      "WARNING:tensorflow:Entity <bound method Dense.call of <tensorflow.python.layers.core.Dense object at 0x7f34647d64a8>> could not be transformed and will be executed as-is. Please report this to the AutgoGraph team. When filing the bug, set the verbosity to 10 (on Linux, `export AUTOGRAPH_VERBOSITY=10`) and attach the full output. Cause: converting <bound method Dense.call of <tensorflow.python.layers.core.Dense object at 0x7f34647d64a8>>: AssertionError: Bad argument number for Name: 3, expecting 4\n",
      "WARNING:tensorflow:Entity <bound method Dense.call of <tensorflow.python.layers.core.Dense object at 0x7f34647d64a8>> could not be transformed and will be executed as-is. Please report this to the AutgoGraph team. When filing the bug, set the verbosity to 10 (on Linux, `export AUTOGRAPH_VERBOSITY=10`) and attach the full output. Cause: converting <bound method Dense.call of <tensorflow.python.layers.core.Dense object at 0x7f34647d64a8>>: AssertionError: Bad argument number for Name: 3, expecting 4\n"
     ]
    },
    {
     "name": "stdout",
     "output_type": "stream",
     "text": [
      "WARNING:tensorflow:Entity <bound method Dense.call of <tensorflow.python.layers.core.Dense object at 0x7f34647d6ef0>> could not be transformed and will be executed as-is. Please report this to the AutgoGraph team. When filing the bug, set the verbosity to 10 (on Linux, `export AUTOGRAPH_VERBOSITY=10`) and attach the full output. Cause: converting <bound method Dense.call of <tensorflow.python.layers.core.Dense object at 0x7f34647d6ef0>>: AssertionError: Bad argument number for Name: 3, expecting 4\n",
      "WARNING:tensorflow:Entity <bound method Dense.call of <tensorflow.python.layers.core.Dense object at 0x7f34647d6ef0>> could not be transformed and will be executed as-is. Please report this to the AutgoGraph team. When filing the bug, set the verbosity to 10 (on Linux, `export AUTOGRAPH_VERBOSITY=10`) and attach the full output. Cause: converting <bound method Dense.call of <tensorflow.python.layers.core.Dense object at 0x7f34647d6ef0>>: AssertionError: Bad argument number for Name: 3, expecting 4\n",
      "WARNING:tensorflow:Entity <bound method Dense.call of <tensorflow.python.layers.core.Dense object at 0x7f34647d68d0>> could not be transformed and will be executed as-is. Please report this to the AutgoGraph team. When filing the bug, set the verbosity to 10 (on Linux, `export AUTOGRAPH_VERBOSITY=10`) and attach the full output. Cause: converting <bound method Dense.call of <tensorflow.python.layers.core.Dense object at 0x7f34647d68d0>>: AssertionError: Bad argument number for Name: 3, expecting 4\n",
      "WARNING:tensorflow:Entity <bound method Dense.call of <tensorflow.python.layers.core.Dense object at 0x7f34647d68d0>> could not be transformed and will be executed as-is. Please report this to the AutgoGraph team. When filing the bug, set the verbosity to 10 (on Linux, `export AUTOGRAPH_VERBOSITY=10`) and attach the full output. Cause: converting <bound method Dense.call of <tensorflow.python.layers.core.Dense object at 0x7f34647d68d0>>: AssertionError: Bad argument number for Name: 3, expecting 4\n",
      "WARNING:tensorflow:Entity <bound method Dense.call of <tensorflow.python.layers.core.Dense object at 0x7f34642780b8>> could not be transformed and will be executed as-is. Please report this to the AutgoGraph team. When filing the bug, set the verbosity to 10 (on Linux, `export AUTOGRAPH_VERBOSITY=10`) and attach the full output. Cause: converting <bound method Dense.call of <tensorflow.python.layers.core.Dense object at 0x7f34642780b8>>: AssertionError: Bad argument number for Name: 3, expecting 4\n",
      "WARNING:tensorflow:Entity <bound method Dense.call of <tensorflow.python.layers.core.Dense object at 0x7f34642780b8>> could not be transformed and will be executed as-is. Please report this to the AutgoGraph team. When filing the bug, set the verbosity to 10 (on Linux, `export AUTOGRAPH_VERBOSITY=10`) and attach the full output. Cause: converting <bound method Dense.call of <tensorflow.python.layers.core.Dense object at 0x7f34642780b8>>: AssertionError: Bad argument number for Name: 3, expecting 4\n",
      "WARNING:tensorflow:Entity <bound method Dense.call of <tensorflow.python.layers.core.Dense object at 0x7f3464247048>> could not be transformed and will be executed as-is. Please report this to the AutgoGraph team. When filing the bug, set the verbosity to 10 (on Linux, `export AUTOGRAPH_VERBOSITY=10`) and attach the full output. Cause: converting <bound method Dense.call of <tensorflow.python.layers.core.Dense object at 0x7f3464247048>>: AssertionError: Bad argument number for Name: 3, expecting 4\n",
      "WARNING:tensorflow:Entity <bound method Dense.call of <tensorflow.python.layers.core.Dense object at 0x7f3464247048>> could not be transformed and will be executed as-is. Please report this to the AutgoGraph team. When filing the bug, set the verbosity to 10 (on Linux, `export AUTOGRAPH_VERBOSITY=10`) and attach the full output. Cause: converting <bound method Dense.call of <tensorflow.python.layers.core.Dense object at 0x7f3464247048>>: AssertionError: Bad argument number for Name: 3, expecting 4\n",
      "WARNING:tensorflow:Entity <bound method Dense.call of <tensorflow.python.layers.core.Dense object at 0x7f34646a1320>> could not be transformed and will be executed as-is. Please report this to the AutgoGraph team. When filing the bug, set the verbosity to 10 (on Linux, `export AUTOGRAPH_VERBOSITY=10`) and attach the full output. Cause: converting <bound method Dense.call of <tensorflow.python.layers.core.Dense object at 0x7f34646a1320>>: AssertionError: Bad argument number for Name: 3, expecting 4\n",
      "WARNING:tensorflow:Entity <bound method Dense.call of <tensorflow.python.layers.core.Dense object at 0x7f34646a1320>> could not be transformed and will be executed as-is. Please report this to the AutgoGraph team. When filing the bug, set the verbosity to 10 (on Linux, `export AUTOGRAPH_VERBOSITY=10`) and attach the full output. Cause: converting <bound method Dense.call of <tensorflow.python.layers.core.Dense object at 0x7f34646a1320>>: AssertionError: Bad argument number for Name: 3, expecting 4\n",
      "WARNING:tensorflow:Entity <bound method Dense.call of <tensorflow.python.layers.core.Dense object at 0x7f346422ef98>> could not be transformed and will be executed as-is. Please report this to the AutgoGraph team. When filing the bug, set the verbosity to 10 (on Linux, `export AUTOGRAPH_VERBOSITY=10`) and attach the full output. Cause: converting <bound method Dense.call of <tensorflow.python.layers.core.Dense object at 0x7f346422ef98>>: AssertionError: Bad argument number for Name: 3, expecting 4\n",
      "WARNING:tensorflow:Entity <bound method Dense.call of <tensorflow.python.layers.core.Dense object at 0x7f346422ef98>> could not be transformed and will be executed as-is. Please report this to the AutgoGraph team. When filing the bug, set the verbosity to 10 (on Linux, `export AUTOGRAPH_VERBOSITY=10`) and attach the full output. Cause: converting <bound method Dense.call of <tensorflow.python.layers.core.Dense object at 0x7f346422ef98>>: AssertionError: Bad argument number for Name: 3, expecting 4\n",
      "WARNING:tensorflow:Entity <bound method Dense.call of <tensorflow.python.layers.core.Dense object at 0x7f346422e048>> could not be transformed and will be executed as-is. Please report this to the AutgoGraph team. When filing the bug, set the verbosity to 10 (on Linux, `export AUTOGRAPH_VERBOSITY=10`) and attach the full output. Cause: converting <bound method Dense.call of <tensorflow.python.layers.core.Dense object at 0x7f346422e048>>: AssertionError: Bad argument number for Name: 3, expecting 4\n",
      "WARNING:tensorflow:Entity <bound method Dense.call of <tensorflow.python.layers.core.Dense object at 0x7f346422e048>> could not be transformed and will be executed as-is. Please report this to the AutgoGraph team. When filing the bug, set the verbosity to 10 (on Linux, `export AUTOGRAPH_VERBOSITY=10`) and attach the full output. Cause: converting <bound method Dense.call of <tensorflow.python.layers.core.Dense object at 0x7f346422e048>>: AssertionError: Bad argument number for Name: 3, expecting 4\n",
      "WARNING:tensorflow:Entity <bound method Dense.call of <tensorflow.python.layers.core.Dense object at 0x7f34642070b8>> could not be transformed and will be executed as-is. Please report this to the AutgoGraph team. When filing the bug, set the verbosity to 10 (on Linux, `export AUTOGRAPH_VERBOSITY=10`) and attach the full output. Cause: converting <bound method Dense.call of <tensorflow.python.layers.core.Dense object at 0x7f34642070b8>>: AssertionError: Bad argument number for Name: 3, expecting 4\n",
      "WARNING:tensorflow:Entity <bound method Dense.call of <tensorflow.python.layers.core.Dense object at 0x7f34642070b8>> could not be transformed and will be executed as-is. Please report this to the AutgoGraph team. When filing the bug, set the verbosity to 10 (on Linux, `export AUTOGRAPH_VERBOSITY=10`) and attach the full output. Cause: converting <bound method Dense.call of <tensorflow.python.layers.core.Dense object at 0x7f34642070b8>>: AssertionError: Bad argument number for Name: 3, expecting 4\n",
      "2019-10-08 10:37:01,648\tWARNING util.py:47 -- Install gputil for GPU system monitoring.\n",
      "Loading configuration... done.\n",
      "Success.\n",
      "Loading configuration... done.\n"
     ]
    },
    {
     "name": "stdout",
     "output_type": "stream",
     "text": [
      "Loading configuration... done.\n",
      "Success.\n",
      "Loading configuration... done.\n",
      "\n",
      "-----------------------\n",
      "ring length: 227\n",
      "v_max: 3.570869368805752\n",
      "-----------------------\n",
      "Loading configuration... done.\n",
      "Success.\n",
      "Loading configuration... done.\n",
      "Loading configuration... done.\n",
      "Success.\n",
      "Loading configuration... done.\n",
      "Traceback (most recent call last):\n",
      "  File \"../flow/visualize/visualizer_rllib.py\", line 389, in <module>\n",
      "    visualizer_rllib(args)\n",
      "  File \"../flow/visualize/visualizer_rllib.py\", line 199, in visualizer_rllib\n",
      "    state = env.reset()\n",
      "  File \"/home/nick/Programming/flow/flow/envs/ring/wave_attenuation.py\", line 210, in reset\n",
      "    observation = super().reset()\n",
      "  File \"/home/nick/Programming/flow/flow/envs/base.py\", line 523, in reset\n",
      "    raise FatalFlowError(msg=msg)\n",
      "flow.utils.exceptions.FatalFlowError: \n",
      "Not enough vehicles have spawned! Bad start?\n",
      "Missing vehicles / initial state:\n",
      "- human_10: ('human', 'right', 0, 46.5971820306477, 0)\n",
      "- human_11: ('human', 'right', 0, 56.57045154267076, 0)\n",
      "- human_9: ('human', 'right', 0, 36.831256505501855, 0)\n",
      "- human_8: ('human', 'right', 0, 23.997861657467844, 0)\n",
      "\n"
     ]
    }
   ],
   "source": [
    "! python ../../flow/visualize/visualizer_rllib.py /ray_results/experiment_dir/result/directory 1"
   ]
  },
  {
   "cell_type": "markdown",
   "metadata": {
    "collapsed": true
   },
   "source": [
    "<hr>\n",
    "\n",
    "## Data Collection and Analysis\n",
    "Any Flow experiment can output its results to a CSV file containing the contents of SUMO's built-in `emission.xml` files, specifying speed, position, time, fuel consumption, and many other metrics for all vehicles in a network over time. \n",
    "\n",
    "This section describes how to generate those `emission.csv` files when replaying and analyzing a trained policy."
   ]
  },
  {
   "cell_type": "markdown",
   "metadata": {},
   "source": [
    "### RLlib"
   ]
  },
  {
   "cell_type": "code",
   "execution_count": 9,
   "metadata": {},
   "outputs": [
    {
     "name": "stdout",
     "output_type": "stream",
     "text": [
      "python: can't open file '../../flow/visualize/visualizer_rllib.py': [Errno 2] No such file or directory\r\n"
     ]
    }
   ],
   "source": [
    "# --emission_to_csv does the same as above\n",
    "! python ../../flow/visualize/visualizer_rllib.py results/sample_checkpoint 1 --gen_emission"
   ]
  },
  {
   "cell_type": "markdown",
   "metadata": {},
   "source": [
    "As in the rllab case, the `emission.csv` file can be found in `test_time_rollout/` and used from there."
   ]
  },
  {
   "cell_type": "markdown",
   "metadata": {},
   "source": [
    "### SUMO\n",
    "SUMO-only experiments can generate emission CSV files as well, based on an argument to the `experiment.run` method. `run` takes in arguments `(num_runs, num_steps, rl_actions=None, convert_to_csv=False)`. To generate an `emission.csv` file, pass in `convert_to_csv=True` in the Python file running your SUMO experiment."
   ]
  }
 ],
 "metadata": {
  "kernelspec": {
   "display_name": "Python 3",
   "language": "python",
   "name": "python3"
  },
  "language_info": {
   "codemirror_mode": {
    "name": "ipython",
    "version": 3
   },
   "file_extension": ".py",
   "mimetype": "text/x-python",
   "name": "python",
   "nbconvert_exporter": "python",
   "pygments_lexer": "ipython3",
   "version": "3.6.9"
  },
  "widgets": {
   "state": {},
   "version": "1.1.2"
  }
 },
 "nbformat": 4,
 "nbformat_minor": 1
}
